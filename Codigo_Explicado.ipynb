{
  "cells": [
    {
      "cell_type": "markdown",
      "metadata": {
        "id": "view-in-github",
        "colab_type": "text"
      },
      "source": [
        "<a href=\"https://colab.research.google.com/github/fultramari/PLN-Projeto-Pratico/blob/main/Codigo_Explicado.ipynb\" target=\"_parent\"><img src=\"https://colab.research.google.com/assets/colab-badge.svg\" alt=\"Open In Colab\"/></a>"
      ]
    },
    {
      "cell_type": "markdown",
      "metadata": {
        "id": "8m67OOx9MX_3"
      },
      "source": [
        "### **PROJETO PRÁTICO** [LangChain + Grandes Modelos de Linguagem + API]\n"
      ]
    },
    {
      "cell_type": "markdown",
      "metadata": {
        "id": "DjJM_qhEZRy6"
      },
      "source": [
        "***Para o presente projeto, foram utilizadas duas APIs e o Streamlit, para exibição dos dados para o usuário de forma mais prática e convidativa.***\n",
        "\n",
        "#**API's**:\n",
        "\n",
        "**1) API Spotify:**\n",
        "\n",
        "**API**: Spotify / Spotipy(extensão em python do site pypi)\n",
        "\n",
        "**Site oficial**: https://developer.spotify.com/\n",
        "\n",
        "**Link para a documentação oficial**: https://developer.spotify.com/documentation/web-api\n",
        "\n",
        "\n",
        "**2) API Lyrics.ovh:**\n",
        "\n",
        "**API**: Lyrics.ovh\n",
        "\n",
        "**Site oficial**: https://lyricsovh.docs.apiary.io/\n",
        "\n",
        "**Link para a documentação oficial**: https://github.com/NTag/lyrics.ovh\n",
        "\n",
        "#**Ferramentas**\n",
        "\n",
        "**1) Streamlit:**\n",
        "\n",
        "**Site oficial**: https://streamlit.io/\n",
        "\n",
        "**Link para a documentação oficial**: https://docs.streamlit.io/\n",
        "\n",
        "**2) Spotipy**: Extensão em python que extraí dados da API Spotify.\n",
        "\n",
        "**Site oficial**: https://pypi.org/project/spotify/\n",
        "\n",
        "**Link para a documentação oficial**: https://spotipy.readthedocs.io/en/2.24.0/\n",
        "\n",
        "\n",
        "\n"
      ]
    },
    {
      "cell_type": "markdown",
      "metadata": {
        "id": "bTODq98Myt_u"
      },
      "source": [
        "**IMPORTANTE**: cada **API** pode ser usada por até 4 equipes."
      ]
    },
    {
      "cell_type": "markdown",
      "metadata": {
        "id": "LhwdrMp123Xx"
      },
      "source": [
        "**IMPORTANTE**: todo o código do notebook deve ser executado. Código sem execução não será considerado."
      ]
    },
    {
      "cell_type": "markdown",
      "metadata": {
        "id": "OHLgqhwFNZTx"
      },
      "source": [
        "# **Parte 1 - Configurações do ambiente**\n",
        "---"
      ]
    },
    {
      "cell_type": "markdown",
      "metadata": {
        "id": "sKoHMWbkPuOD"
      },
      "source": [
        "No tópico a seguir, iremos realizar as **configurações do ambiente**, instalando as **bibliotecas e APIs** necessárias para o projeto.\n"
      ]
    },
    {
      "cell_type": "markdown",
      "metadata": {
        "id": "hvhsyphzvt7n"
      },
      "source": [
        "##### **Instalação das bibliotecas e APIs que serão utilizadas**"
      ]
    },
    {
      "cell_type": "code",
      "execution_count": 1,
      "metadata": {
        "collapsed": true,
        "id": "RyUailD5vi9E",
        "colab": {
          "base_uri": "https://localhost:8080/"
        },
        "outputId": "bfc2d976-a51d-400c-95d1-596c520acb22"
      },
      "outputs": [
        {
          "output_type": "stream",
          "name": "stdout",
          "text": [
            "Collecting spotipy\n",
            "  Downloading spotipy-2.24.0-py3-none-any.whl.metadata (4.9 kB)\n",
            "Collecting redis>=3.5.3 (from spotipy)\n",
            "  Downloading redis-5.1.0-py3-none-any.whl.metadata (9.1 kB)\n",
            "Requirement already satisfied: requests>=2.25.0 in /usr/local/lib/python3.10/dist-packages (from spotipy) (2.32.3)\n",
            "Requirement already satisfied: urllib3>=1.26.0 in /usr/local/lib/python3.10/dist-packages (from spotipy) (2.2.3)\n",
            "Requirement already satisfied: async-timeout>=4.0.3 in /usr/local/lib/python3.10/dist-packages (from redis>=3.5.3->spotipy) (4.0.3)\n",
            "Requirement already satisfied: charset-normalizer<4,>=2 in /usr/local/lib/python3.10/dist-packages (from requests>=2.25.0->spotipy) (3.3.2)\n",
            "Requirement already satisfied: idna<4,>=2.5 in /usr/local/lib/python3.10/dist-packages (from requests>=2.25.0->spotipy) (3.10)\n",
            "Requirement already satisfied: certifi>=2017.4.17 in /usr/local/lib/python3.10/dist-packages (from requests>=2.25.0->spotipy) (2024.8.30)\n",
            "Downloading spotipy-2.24.0-py3-none-any.whl (30 kB)\n",
            "Downloading redis-5.1.0-py3-none-any.whl (261 kB)\n",
            "\u001b[2K   \u001b[90m━━━━━━━━━━━━━━━━━━━━━━━━━━━━━━━━━━━━━━━━\u001b[0m \u001b[32m261.2/261.2 kB\u001b[0m \u001b[31m5.1 MB/s\u001b[0m eta \u001b[36m0:00:00\u001b[0m\n",
            "\u001b[?25hInstalling collected packages: redis, spotipy\n",
            "Successfully installed redis-5.1.0 spotipy-2.24.0\n",
            "Collecting openai\n",
            "  Downloading openai-1.51.0-py3-none-any.whl.metadata (24 kB)\n",
            "Requirement already satisfied: anyio<5,>=3.5.0 in /usr/local/lib/python3.10/dist-packages (from openai) (3.7.1)\n",
            "Requirement already satisfied: distro<2,>=1.7.0 in /usr/lib/python3/dist-packages (from openai) (1.7.0)\n",
            "Collecting httpx<1,>=0.23.0 (from openai)\n",
            "  Downloading httpx-0.27.2-py3-none-any.whl.metadata (7.1 kB)\n",
            "Collecting jiter<1,>=0.4.0 (from openai)\n",
            "  Downloading jiter-0.5.0-cp310-cp310-manylinux_2_17_x86_64.manylinux2014_x86_64.whl.metadata (3.6 kB)\n",
            "Requirement already satisfied: pydantic<3,>=1.9.0 in /usr/local/lib/python3.10/dist-packages (from openai) (2.9.2)\n",
            "Requirement already satisfied: sniffio in /usr/local/lib/python3.10/dist-packages (from openai) (1.3.1)\n",
            "Requirement already satisfied: tqdm>4 in /usr/local/lib/python3.10/dist-packages (from openai) (4.66.5)\n",
            "Requirement already satisfied: typing-extensions<5,>=4.11 in /usr/local/lib/python3.10/dist-packages (from openai) (4.12.2)\n",
            "Requirement already satisfied: idna>=2.8 in /usr/local/lib/python3.10/dist-packages (from anyio<5,>=3.5.0->openai) (3.10)\n",
            "Requirement already satisfied: exceptiongroup in /usr/local/lib/python3.10/dist-packages (from anyio<5,>=3.5.0->openai) (1.2.2)\n",
            "Requirement already satisfied: certifi in /usr/local/lib/python3.10/dist-packages (from httpx<1,>=0.23.0->openai) (2024.8.30)\n",
            "Collecting httpcore==1.* (from httpx<1,>=0.23.0->openai)\n",
            "  Downloading httpcore-1.0.6-py3-none-any.whl.metadata (21 kB)\n",
            "Collecting h11<0.15,>=0.13 (from httpcore==1.*->httpx<1,>=0.23.0->openai)\n",
            "  Downloading h11-0.14.0-py3-none-any.whl.metadata (8.2 kB)\n",
            "Requirement already satisfied: annotated-types>=0.6.0 in /usr/local/lib/python3.10/dist-packages (from pydantic<3,>=1.9.0->openai) (0.7.0)\n",
            "Requirement already satisfied: pydantic-core==2.23.4 in /usr/local/lib/python3.10/dist-packages (from pydantic<3,>=1.9.0->openai) (2.23.4)\n",
            "Downloading openai-1.51.0-py3-none-any.whl (383 kB)\n",
            "\u001b[2K   \u001b[90m━━━━━━━━━━━━━━━━━━━━━━━━━━━━━━━━━━━━━━━━\u001b[0m \u001b[32m383.5/383.5 kB\u001b[0m \u001b[31m8.2 MB/s\u001b[0m eta \u001b[36m0:00:00\u001b[0m\n",
            "\u001b[?25hDownloading httpx-0.27.2-py3-none-any.whl (76 kB)\n",
            "\u001b[2K   \u001b[90m━━━━━━━━━━━━━━━━━━━━━━━━━━━━━━━━━━━━━━━━\u001b[0m \u001b[32m76.4/76.4 kB\u001b[0m \u001b[31m5.3 MB/s\u001b[0m eta \u001b[36m0:00:00\u001b[0m\n",
            "\u001b[?25hDownloading httpcore-1.0.6-py3-none-any.whl (78 kB)\n",
            "\u001b[2K   \u001b[90m━━━━━━━━━━━━━━━━━━━━━━━━━━━━━━━━━━━━━━━━\u001b[0m \u001b[32m78.0/78.0 kB\u001b[0m \u001b[31m5.1 MB/s\u001b[0m eta \u001b[36m0:00:00\u001b[0m\n",
            "\u001b[?25hDownloading jiter-0.5.0-cp310-cp310-manylinux_2_17_x86_64.manylinux2014_x86_64.whl (318 kB)\n",
            "\u001b[2K   \u001b[90m━━━━━━━━━━━━━━━━━━━━━━━━━━━━━━━━━━━━━━━━\u001b[0m \u001b[32m318.9/318.9 kB\u001b[0m \u001b[31m19.5 MB/s\u001b[0m eta \u001b[36m0:00:00\u001b[0m\n",
            "\u001b[?25hDownloading h11-0.14.0-py3-none-any.whl (58 kB)\n",
            "\u001b[2K   \u001b[90m━━━━━━━━━━━━━━━━━━━━━━━━━━━━━━━━━━━━━━━━\u001b[0m \u001b[32m58.3/58.3 kB\u001b[0m \u001b[31m3.5 MB/s\u001b[0m eta \u001b[36m0:00:00\u001b[0m\n",
            "\u001b[?25hInstalling collected packages: jiter, h11, httpcore, httpx, openai\n",
            "Successfully installed h11-0.14.0 httpcore-1.0.6 httpx-0.27.2 jiter-0.5.0 openai-1.51.0\n",
            "\u001b[2K     \u001b[90m━━━━━━━━━━━━━━━━━━━━━━━━━━━━━━━━━━━━━━━━\u001b[0m \u001b[32m50.4/50.4 kB\u001b[0m \u001b[31m1.1 MB/s\u001b[0m eta \u001b[36m0:00:00\u001b[0m\n",
            "\u001b[2K   \u001b[90m━━━━━━━━━━━━━━━━━━━━━━━━━━━━━━━━━━━━━━━━\u001b[0m \u001b[32m1.0/1.0 MB\u001b[0m \u001b[31m15.2 MB/s\u001b[0m eta \u001b[36m0:00:00\u001b[0m\n",
            "\u001b[2K   \u001b[90m━━━━━━━━━━━━━━━━━━━━━━━━━━━━━━━━━━━━━━━━\u001b[0m \u001b[32m400.9/400.9 kB\u001b[0m \u001b[31m16.8 MB/s\u001b[0m eta \u001b[36m0:00:00\u001b[0m\n",
            "\u001b[2K   \u001b[90m━━━━━━━━━━━━━━━━━━━━━━━━━━━━━━━━━━━━━━━━\u001b[0m \u001b[32m294.6/294.6 kB\u001b[0m \u001b[31m12.5 MB/s\u001b[0m eta \u001b[36m0:00:00\u001b[0m\n",
            "\u001b[2K   \u001b[90m━━━━━━━━━━━━━━━━━━━━━━━━━━━━━━━━━━━━━━━━\u001b[0m \u001b[32m141.9/141.9 kB\u001b[0m \u001b[31m8.2 MB/s\u001b[0m eta \u001b[36m0:00:00\u001b[0m\n",
            "\u001b[2K   \u001b[90m━━━━━━━━━━━━━━━━━━━━━━━━━━━━━━━━━━━━━━━━\u001b[0m \u001b[32m54.5/54.5 kB\u001b[0m \u001b[31m3.3 MB/s\u001b[0m eta \u001b[36m0:00:00\u001b[0m\n",
            "\u001b[?25hCollecting langchain_community\n",
            "  Downloading langchain_community-0.3.1-py3-none-any.whl.metadata (2.8 kB)\n",
            "Requirement already satisfied: PyYAML>=5.3 in /usr/local/lib/python3.10/dist-packages (from langchain_community) (6.0.2)\n",
            "Requirement already satisfied: SQLAlchemy<3,>=1.4 in /usr/local/lib/python3.10/dist-packages (from langchain_community) (2.0.35)\n",
            "Requirement already satisfied: aiohttp<4.0.0,>=3.8.3 in /usr/local/lib/python3.10/dist-packages (from langchain_community) (3.10.8)\n",
            "Collecting dataclasses-json<0.7,>=0.5.7 (from langchain_community)\n",
            "  Downloading dataclasses_json-0.6.7-py3-none-any.whl.metadata (25 kB)\n",
            "Requirement already satisfied: langchain<0.4.0,>=0.3.1 in /usr/local/lib/python3.10/dist-packages (from langchain_community) (0.3.2)\n",
            "Requirement already satisfied: langchain-core<0.4.0,>=0.3.6 in /usr/local/lib/python3.10/dist-packages (from langchain_community) (0.3.8)\n",
            "Requirement already satisfied: langsmith<0.2.0,>=0.1.125 in /usr/local/lib/python3.10/dist-packages (from langchain_community) (0.1.131)\n",
            "Requirement already satisfied: numpy<2,>=1 in /usr/local/lib/python3.10/dist-packages (from langchain_community) (1.26.4)\n",
            "Collecting pydantic-settings<3.0.0,>=2.4.0 (from langchain_community)\n",
            "  Downloading pydantic_settings-2.5.2-py3-none-any.whl.metadata (3.5 kB)\n",
            "Requirement already satisfied: requests<3,>=2 in /usr/local/lib/python3.10/dist-packages (from langchain_community) (2.32.3)\n",
            "Requirement already satisfied: tenacity!=8.4.0,<9.0.0,>=8.1.0 in /usr/local/lib/python3.10/dist-packages (from langchain_community) (8.5.0)\n",
            "Requirement already satisfied: aiohappyeyeballs>=2.3.0 in /usr/local/lib/python3.10/dist-packages (from aiohttp<4.0.0,>=3.8.3->langchain_community) (2.4.3)\n",
            "Requirement already satisfied: aiosignal>=1.1.2 in /usr/local/lib/python3.10/dist-packages (from aiohttp<4.0.0,>=3.8.3->langchain_community) (1.3.1)\n",
            "Requirement already satisfied: attrs>=17.3.0 in /usr/local/lib/python3.10/dist-packages (from aiohttp<4.0.0,>=3.8.3->langchain_community) (24.2.0)\n",
            "Requirement already satisfied: frozenlist>=1.1.1 in /usr/local/lib/python3.10/dist-packages (from aiohttp<4.0.0,>=3.8.3->langchain_community) (1.4.1)\n",
            "Requirement already satisfied: multidict<7.0,>=4.5 in /usr/local/lib/python3.10/dist-packages (from aiohttp<4.0.0,>=3.8.3->langchain_community) (6.1.0)\n",
            "Requirement already satisfied: yarl<2.0,>=1.12.0 in /usr/local/lib/python3.10/dist-packages (from aiohttp<4.0.0,>=3.8.3->langchain_community) (1.13.1)\n",
            "Requirement already satisfied: async-timeout<5.0,>=4.0 in /usr/local/lib/python3.10/dist-packages (from aiohttp<4.0.0,>=3.8.3->langchain_community) (4.0.3)\n",
            "Collecting marshmallow<4.0.0,>=3.18.0 (from dataclasses-json<0.7,>=0.5.7->langchain_community)\n",
            "  Downloading marshmallow-3.22.0-py3-none-any.whl.metadata (7.2 kB)\n",
            "Collecting typing-inspect<1,>=0.4.0 (from dataclasses-json<0.7,>=0.5.7->langchain_community)\n",
            "  Downloading typing_inspect-0.9.0-py3-none-any.whl.metadata (1.5 kB)\n",
            "Requirement already satisfied: langchain-text-splitters<0.4.0,>=0.3.0 in /usr/local/lib/python3.10/dist-packages (from langchain<0.4.0,>=0.3.1->langchain_community) (0.3.0)\n",
            "Requirement already satisfied: pydantic<3.0.0,>=2.7.4 in /usr/local/lib/python3.10/dist-packages (from langchain<0.4.0,>=0.3.1->langchain_community) (2.9.2)\n",
            "Requirement already satisfied: jsonpatch<2.0,>=1.33 in /usr/local/lib/python3.10/dist-packages (from langchain-core<0.4.0,>=0.3.6->langchain_community) (1.33)\n",
            "Requirement already satisfied: packaging<25,>=23.2 in /usr/local/lib/python3.10/dist-packages (from langchain-core<0.4.0,>=0.3.6->langchain_community) (24.1)\n",
            "Requirement already satisfied: typing-extensions>=4.7 in /usr/local/lib/python3.10/dist-packages (from langchain-core<0.4.0,>=0.3.6->langchain_community) (4.12.2)\n",
            "Requirement already satisfied: httpx<1,>=0.23.0 in /usr/local/lib/python3.10/dist-packages (from langsmith<0.2.0,>=0.1.125->langchain_community) (0.27.2)\n",
            "Requirement already satisfied: orjson<4.0.0,>=3.9.14 in /usr/local/lib/python3.10/dist-packages (from langsmith<0.2.0,>=0.1.125->langchain_community) (3.10.7)\n",
            "Requirement already satisfied: requests-toolbelt<2.0.0,>=1.0.0 in /usr/local/lib/python3.10/dist-packages (from langsmith<0.2.0,>=0.1.125->langchain_community) (1.0.0)\n",
            "Collecting python-dotenv>=0.21.0 (from pydantic-settings<3.0.0,>=2.4.0->langchain_community)\n",
            "  Downloading python_dotenv-1.0.1-py3-none-any.whl.metadata (23 kB)\n",
            "Requirement already satisfied: charset-normalizer<4,>=2 in /usr/local/lib/python3.10/dist-packages (from requests<3,>=2->langchain_community) (3.3.2)\n",
            "Requirement already satisfied: idna<4,>=2.5 in /usr/local/lib/python3.10/dist-packages (from requests<3,>=2->langchain_community) (3.10)\n",
            "Requirement already satisfied: urllib3<3,>=1.21.1 in /usr/local/lib/python3.10/dist-packages (from requests<3,>=2->langchain_community) (2.2.3)\n",
            "Requirement already satisfied: certifi>=2017.4.17 in /usr/local/lib/python3.10/dist-packages (from requests<3,>=2->langchain_community) (2024.8.30)\n",
            "Requirement already satisfied: greenlet!=0.4.17 in /usr/local/lib/python3.10/dist-packages (from SQLAlchemy<3,>=1.4->langchain_community) (3.1.1)\n",
            "Requirement already satisfied: anyio in /usr/local/lib/python3.10/dist-packages (from httpx<1,>=0.23.0->langsmith<0.2.0,>=0.1.125->langchain_community) (3.7.1)\n",
            "Requirement already satisfied: httpcore==1.* in /usr/local/lib/python3.10/dist-packages (from httpx<1,>=0.23.0->langsmith<0.2.0,>=0.1.125->langchain_community) (1.0.6)\n",
            "Requirement already satisfied: sniffio in /usr/local/lib/python3.10/dist-packages (from httpx<1,>=0.23.0->langsmith<0.2.0,>=0.1.125->langchain_community) (1.3.1)\n",
            "Requirement already satisfied: h11<0.15,>=0.13 in /usr/local/lib/python3.10/dist-packages (from httpcore==1.*->httpx<1,>=0.23.0->langsmith<0.2.0,>=0.1.125->langchain_community) (0.14.0)\n",
            "Requirement already satisfied: jsonpointer>=1.9 in /usr/local/lib/python3.10/dist-packages (from jsonpatch<2.0,>=1.33->langchain-core<0.4.0,>=0.3.6->langchain_community) (3.0.0)\n",
            "Requirement already satisfied: annotated-types>=0.6.0 in /usr/local/lib/python3.10/dist-packages (from pydantic<3.0.0,>=2.7.4->langchain<0.4.0,>=0.3.1->langchain_community) (0.7.0)\n",
            "Requirement already satisfied: pydantic-core==2.23.4 in /usr/local/lib/python3.10/dist-packages (from pydantic<3.0.0,>=2.7.4->langchain<0.4.0,>=0.3.1->langchain_community) (2.23.4)\n",
            "Collecting mypy-extensions>=0.3.0 (from typing-inspect<1,>=0.4.0->dataclasses-json<0.7,>=0.5.7->langchain_community)\n",
            "  Downloading mypy_extensions-1.0.0-py3-none-any.whl.metadata (1.1 kB)\n",
            "Requirement already satisfied: exceptiongroup in /usr/local/lib/python3.10/dist-packages (from anyio->httpx<1,>=0.23.0->langsmith<0.2.0,>=0.1.125->langchain_community) (1.2.2)\n",
            "Downloading langchain_community-0.3.1-py3-none-any.whl (2.4 MB)\n",
            "\u001b[2K   \u001b[90m━━━━━━━━━━━━━━━━━━━━━━━━━━━━━━━━━━━━━━━━\u001b[0m \u001b[32m2.4/2.4 MB\u001b[0m \u001b[31m26.2 MB/s\u001b[0m eta \u001b[36m0:00:00\u001b[0m\n",
            "\u001b[?25hDownloading dataclasses_json-0.6.7-py3-none-any.whl (28 kB)\n",
            "Downloading pydantic_settings-2.5.2-py3-none-any.whl (26 kB)\n",
            "Downloading marshmallow-3.22.0-py3-none-any.whl (49 kB)\n",
            "\u001b[2K   \u001b[90m━━━━━━━━━━━━━━━━━━━━━━━━━━━━━━━━━━━━━━━━\u001b[0m \u001b[32m49.3/49.3 kB\u001b[0m \u001b[31m3.8 MB/s\u001b[0m eta \u001b[36m0:00:00\u001b[0m\n",
            "\u001b[?25hDownloading python_dotenv-1.0.1-py3-none-any.whl (19 kB)\n",
            "Downloading typing_inspect-0.9.0-py3-none-any.whl (8.8 kB)\n",
            "Downloading mypy_extensions-1.0.0-py3-none-any.whl (4.7 kB)\n",
            "Installing collected packages: python-dotenv, mypy-extensions, marshmallow, typing-inspect, pydantic-settings, dataclasses-json, langchain_community\n",
            "Successfully installed dataclasses-json-0.6.7 langchain_community-0.3.1 marshmallow-3.22.0 mypy-extensions-1.0.0 pydantic-settings-2.5.2 python-dotenv-1.0.1 typing-inspect-0.9.0\n",
            "Collecting fpdf\n",
            "  Downloading fpdf-1.7.2.tar.gz (39 kB)\n",
            "  Preparing metadata (setup.py) ... \u001b[?25l\u001b[?25hdone\n",
            "Building wheels for collected packages: fpdf\n",
            "  Building wheel for fpdf (setup.py) ... \u001b[?25l\u001b[?25hdone\n",
            "  Created wheel for fpdf: filename=fpdf-1.7.2-py2.py3-none-any.whl size=40704 sha256=00d44887210b1648ffd4b95fdcd4ab99da4ce0c28159d25ab32c4deaca9a968a\n",
            "  Stored in directory: /root/.cache/pip/wheels/f9/95/ba/f418094659025eb9611f17cbcaf2334236bf39a0c3453ea455\n",
            "Successfully built fpdf\n",
            "Installing collected packages: fpdf\n",
            "Successfully installed fpdf-1.7.2\n",
            "Collecting streamlit\n",
            "  Downloading streamlit-1.39.0-py2.py3-none-any.whl.metadata (8.5 kB)\n",
            "Requirement already satisfied: altair<6,>=4.0 in /usr/local/lib/python3.10/dist-packages (from streamlit) (4.2.2)\n",
            "Requirement already satisfied: blinker<2,>=1.0.0 in /usr/lib/python3/dist-packages (from streamlit) (1.4)\n",
            "Requirement already satisfied: cachetools<6,>=4.0 in /usr/local/lib/python3.10/dist-packages (from streamlit) (5.5.0)\n",
            "Requirement already satisfied: click<9,>=7.0 in /usr/local/lib/python3.10/dist-packages (from streamlit) (8.1.7)\n",
            "Requirement already satisfied: numpy<3,>=1.20 in /usr/local/lib/python3.10/dist-packages (from streamlit) (1.26.4)\n",
            "Requirement already satisfied: packaging<25,>=20 in /usr/local/lib/python3.10/dist-packages (from streamlit) (24.1)\n",
            "Requirement already satisfied: pandas<3,>=1.4.0 in /usr/local/lib/python3.10/dist-packages (from streamlit) (2.2.2)\n",
            "Requirement already satisfied: pillow<11,>=7.1.0 in /usr/local/lib/python3.10/dist-packages (from streamlit) (10.4.0)\n",
            "Requirement already satisfied: protobuf<6,>=3.20 in /usr/local/lib/python3.10/dist-packages (from streamlit) (3.20.3)\n",
            "Requirement already satisfied: pyarrow>=7.0 in /usr/local/lib/python3.10/dist-packages (from streamlit) (16.1.0)\n",
            "Requirement already satisfied: requests<3,>=2.27 in /usr/local/lib/python3.10/dist-packages (from streamlit) (2.32.3)\n",
            "Requirement already satisfied: rich<14,>=10.14.0 in /usr/local/lib/python3.10/dist-packages (from streamlit) (13.8.1)\n",
            "Requirement already satisfied: tenacity<10,>=8.1.0 in /usr/local/lib/python3.10/dist-packages (from streamlit) (8.5.0)\n",
            "Requirement already satisfied: toml<2,>=0.10.1 in /usr/local/lib/python3.10/dist-packages (from streamlit) (0.10.2)\n",
            "Requirement already satisfied: typing-extensions<5,>=4.3.0 in /usr/local/lib/python3.10/dist-packages (from streamlit) (4.12.2)\n",
            "Collecting gitpython!=3.1.19,<4,>=3.0.7 (from streamlit)\n",
            "  Downloading GitPython-3.1.43-py3-none-any.whl.metadata (13 kB)\n",
            "Collecting pydeck<1,>=0.8.0b4 (from streamlit)\n",
            "  Downloading pydeck-0.9.1-py2.py3-none-any.whl.metadata (4.1 kB)\n",
            "Requirement already satisfied: tornado<7,>=6.0.3 in /usr/local/lib/python3.10/dist-packages (from streamlit) (6.3.3)\n",
            "Collecting watchdog<6,>=2.1.5 (from streamlit)\n",
            "  Downloading watchdog-5.0.3-py3-none-manylinux2014_x86_64.whl.metadata (41 kB)\n",
            "\u001b[2K     \u001b[90m━━━━━━━━━━━━━━━━━━━━━━━━━━━━━━━━━━━━━━━━\u001b[0m \u001b[32m41.9/41.9 kB\u001b[0m \u001b[31m1.5 MB/s\u001b[0m eta \u001b[36m0:00:00\u001b[0m\n",
            "\u001b[?25hRequirement already satisfied: entrypoints in /usr/local/lib/python3.10/dist-packages (from altair<6,>=4.0->streamlit) (0.4)\n",
            "Requirement already satisfied: jinja2 in /usr/local/lib/python3.10/dist-packages (from altair<6,>=4.0->streamlit) (3.1.4)\n",
            "Requirement already satisfied: jsonschema>=3.0 in /usr/local/lib/python3.10/dist-packages (from altair<6,>=4.0->streamlit) (4.23.0)\n",
            "Requirement already satisfied: toolz in /usr/local/lib/python3.10/dist-packages (from altair<6,>=4.0->streamlit) (0.12.1)\n",
            "Collecting gitdb<5,>=4.0.1 (from gitpython!=3.1.19,<4,>=3.0.7->streamlit)\n",
            "  Downloading gitdb-4.0.11-py3-none-any.whl.metadata (1.2 kB)\n",
            "Requirement already satisfied: python-dateutil>=2.8.2 in /usr/local/lib/python3.10/dist-packages (from pandas<3,>=1.4.0->streamlit) (2.8.2)\n",
            "Requirement already satisfied: pytz>=2020.1 in /usr/local/lib/python3.10/dist-packages (from pandas<3,>=1.4.0->streamlit) (2024.2)\n",
            "Requirement already satisfied: tzdata>=2022.7 in /usr/local/lib/python3.10/dist-packages (from pandas<3,>=1.4.0->streamlit) (2024.2)\n",
            "Requirement already satisfied: charset-normalizer<4,>=2 in /usr/local/lib/python3.10/dist-packages (from requests<3,>=2.27->streamlit) (3.3.2)\n",
            "Requirement already satisfied: idna<4,>=2.5 in /usr/local/lib/python3.10/dist-packages (from requests<3,>=2.27->streamlit) (3.10)\n",
            "Requirement already satisfied: urllib3<3,>=1.21.1 in /usr/local/lib/python3.10/dist-packages (from requests<3,>=2.27->streamlit) (2.2.3)\n",
            "Requirement already satisfied: certifi>=2017.4.17 in /usr/local/lib/python3.10/dist-packages (from requests<3,>=2.27->streamlit) (2024.8.30)\n",
            "Requirement already satisfied: markdown-it-py>=2.2.0 in /usr/local/lib/python3.10/dist-packages (from rich<14,>=10.14.0->streamlit) (3.0.0)\n",
            "Requirement already satisfied: pygments<3.0.0,>=2.13.0 in /usr/local/lib/python3.10/dist-packages (from rich<14,>=10.14.0->streamlit) (2.18.0)\n",
            "Collecting smmap<6,>=3.0.1 (from gitdb<5,>=4.0.1->gitpython!=3.1.19,<4,>=3.0.7->streamlit)\n",
            "  Downloading smmap-5.0.1-py3-none-any.whl.metadata (4.3 kB)\n",
            "Requirement already satisfied: MarkupSafe>=2.0 in /usr/local/lib/python3.10/dist-packages (from jinja2->altair<6,>=4.0->streamlit) (2.1.5)\n",
            "Requirement already satisfied: attrs>=22.2.0 in /usr/local/lib/python3.10/dist-packages (from jsonschema>=3.0->altair<6,>=4.0->streamlit) (24.2.0)\n",
            "Requirement already satisfied: jsonschema-specifications>=2023.03.6 in /usr/local/lib/python3.10/dist-packages (from jsonschema>=3.0->altair<6,>=4.0->streamlit) (2023.12.1)\n",
            "Requirement already satisfied: referencing>=0.28.4 in /usr/local/lib/python3.10/dist-packages (from jsonschema>=3.0->altair<6,>=4.0->streamlit) (0.35.1)\n",
            "Requirement already satisfied: rpds-py>=0.7.1 in /usr/local/lib/python3.10/dist-packages (from jsonschema>=3.0->altair<6,>=4.0->streamlit) (0.20.0)\n",
            "Requirement already satisfied: mdurl~=0.1 in /usr/local/lib/python3.10/dist-packages (from markdown-it-py>=2.2.0->rich<14,>=10.14.0->streamlit) (0.1.2)\n",
            "Requirement already satisfied: six>=1.5 in /usr/local/lib/python3.10/dist-packages (from python-dateutil>=2.8.2->pandas<3,>=1.4.0->streamlit) (1.16.0)\n",
            "Downloading streamlit-1.39.0-py2.py3-none-any.whl (8.7 MB)\n",
            "\u001b[2K   \u001b[90m━━━━━━━━━━━━━━━━━━━━━━━━━━━━━━━━━━━━━━━━\u001b[0m \u001b[32m8.7/8.7 MB\u001b[0m \u001b[31m48.0 MB/s\u001b[0m eta \u001b[36m0:00:00\u001b[0m\n",
            "\u001b[?25hDownloading GitPython-3.1.43-py3-none-any.whl (207 kB)\n",
            "\u001b[2K   \u001b[90m━━━━━━━━━━━━━━━━━━━━━━━━━━━━━━━━━━━━━━━━\u001b[0m \u001b[32m207.3/207.3 kB\u001b[0m \u001b[31m16.5 MB/s\u001b[0m eta \u001b[36m0:00:00\u001b[0m\n",
            "\u001b[?25hDownloading pydeck-0.9.1-py2.py3-none-any.whl (6.9 MB)\n",
            "\u001b[2K   \u001b[90m━━━━━━━━━━━━━━━━━━━━━━━━━━━━━━━━━━━━━━━━\u001b[0m \u001b[32m6.9/6.9 MB\u001b[0m \u001b[31m87.7 MB/s\u001b[0m eta \u001b[36m0:00:00\u001b[0m\n",
            "\u001b[?25hDownloading watchdog-5.0.3-py3-none-manylinux2014_x86_64.whl (79 kB)\n",
            "\u001b[2K   \u001b[90m━━━━━━━━━━━━━━━━━━━━━━━━━━━━━━━━━━━━━━━━\u001b[0m \u001b[32m79.3/79.3 kB\u001b[0m \u001b[31m6.8 MB/s\u001b[0m eta \u001b[36m0:00:00\u001b[0m\n",
            "\u001b[?25hDownloading gitdb-4.0.11-py3-none-any.whl (62 kB)\n",
            "\u001b[2K   \u001b[90m━━━━━━━━━━━━━━━━━━━━━━━━━━━━━━━━━━━━━━━━\u001b[0m \u001b[32m62.7/62.7 kB\u001b[0m \u001b[31m4.5 MB/s\u001b[0m eta \u001b[36m0:00:00\u001b[0m\n",
            "\u001b[?25hDownloading smmap-5.0.1-py3-none-any.whl (24 kB)\n",
            "Installing collected packages: watchdog, smmap, pydeck, gitdb, gitpython, streamlit\n",
            "Successfully installed gitdb-4.0.11 gitpython-3.1.43 pydeck-0.9.1 smmap-5.0.1 streamlit-1.39.0 watchdog-5.0.3\n",
            "\u001b[K\u001b[?25h\n",
            "added 22 packages, and audited 23 packages in 2s\n",
            "\n",
            "3 packages are looking for funding\n",
            "  run `npm fund` for details\n",
            "\n",
            "2 \u001b[33m\u001b[1mmoderate\u001b[22m\u001b[39m severity vulnerabilities\n",
            "\n",
            "To address all issues, run:\n",
            "  npm audit fix\n",
            "\n",
            "Run `npm audit` for details.\n",
            "Collecting langchain-openai\n",
            "  Downloading langchain_openai-0.2.1-py3-none-any.whl.metadata (2.6 kB)\n",
            "Requirement already satisfied: langchain-core<0.4,>=0.3 in /usr/local/lib/python3.10/dist-packages (from langchain-openai) (0.3.8)\n",
            "Requirement already satisfied: openai<2.0.0,>=1.40.0 in /usr/local/lib/python3.10/dist-packages (from langchain-openai) (1.51.0)\n",
            "Collecting tiktoken<1,>=0.7 (from langchain-openai)\n",
            "  Downloading tiktoken-0.8.0-cp310-cp310-manylinux_2_17_x86_64.manylinux2014_x86_64.whl.metadata (6.6 kB)\n",
            "Requirement already satisfied: PyYAML>=5.3 in /usr/local/lib/python3.10/dist-packages (from langchain-core<0.4,>=0.3->langchain-openai) (6.0.2)\n",
            "Requirement already satisfied: jsonpatch<2.0,>=1.33 in /usr/local/lib/python3.10/dist-packages (from langchain-core<0.4,>=0.3->langchain-openai) (1.33)\n",
            "Requirement already satisfied: langsmith<0.2.0,>=0.1.125 in /usr/local/lib/python3.10/dist-packages (from langchain-core<0.4,>=0.3->langchain-openai) (0.1.131)\n",
            "Requirement already satisfied: packaging<25,>=23.2 in /usr/local/lib/python3.10/dist-packages (from langchain-core<0.4,>=0.3->langchain-openai) (24.1)\n",
            "Requirement already satisfied: pydantic<3.0.0,>=2.5.2 in /usr/local/lib/python3.10/dist-packages (from langchain-core<0.4,>=0.3->langchain-openai) (2.9.2)\n",
            "Requirement already satisfied: tenacity!=8.4.0,<9.0.0,>=8.1.0 in /usr/local/lib/python3.10/dist-packages (from langchain-core<0.4,>=0.3->langchain-openai) (8.5.0)\n",
            "Requirement already satisfied: typing-extensions>=4.7 in /usr/local/lib/python3.10/dist-packages (from langchain-core<0.4,>=0.3->langchain-openai) (4.12.2)\n",
            "Requirement already satisfied: anyio<5,>=3.5.0 in /usr/local/lib/python3.10/dist-packages (from openai<2.0.0,>=1.40.0->langchain-openai) (3.7.1)\n",
            "Requirement already satisfied: distro<2,>=1.7.0 in /usr/lib/python3/dist-packages (from openai<2.0.0,>=1.40.0->langchain-openai) (1.7.0)\n",
            "Requirement already satisfied: httpx<1,>=0.23.0 in /usr/local/lib/python3.10/dist-packages (from openai<2.0.0,>=1.40.0->langchain-openai) (0.27.2)\n",
            "Requirement already satisfied: jiter<1,>=0.4.0 in /usr/local/lib/python3.10/dist-packages (from openai<2.0.0,>=1.40.0->langchain-openai) (0.5.0)\n",
            "Requirement already satisfied: sniffio in /usr/local/lib/python3.10/dist-packages (from openai<2.0.0,>=1.40.0->langchain-openai) (1.3.1)\n",
            "Requirement already satisfied: tqdm>4 in /usr/local/lib/python3.10/dist-packages (from openai<2.0.0,>=1.40.0->langchain-openai) (4.66.5)\n",
            "Requirement already satisfied: regex>=2022.1.18 in /usr/local/lib/python3.10/dist-packages (from tiktoken<1,>=0.7->langchain-openai) (2024.9.11)\n",
            "Requirement already satisfied: requests>=2.26.0 in /usr/local/lib/python3.10/dist-packages (from tiktoken<1,>=0.7->langchain-openai) (2.32.3)\n",
            "Requirement already satisfied: idna>=2.8 in /usr/local/lib/python3.10/dist-packages (from anyio<5,>=3.5.0->openai<2.0.0,>=1.40.0->langchain-openai) (3.10)\n",
            "Requirement already satisfied: exceptiongroup in /usr/local/lib/python3.10/dist-packages (from anyio<5,>=3.5.0->openai<2.0.0,>=1.40.0->langchain-openai) (1.2.2)\n",
            "Requirement already satisfied: certifi in /usr/local/lib/python3.10/dist-packages (from httpx<1,>=0.23.0->openai<2.0.0,>=1.40.0->langchain-openai) (2024.8.30)\n",
            "Requirement already satisfied: httpcore==1.* in /usr/local/lib/python3.10/dist-packages (from httpx<1,>=0.23.0->openai<2.0.0,>=1.40.0->langchain-openai) (1.0.6)\n",
            "Requirement already satisfied: h11<0.15,>=0.13 in /usr/local/lib/python3.10/dist-packages (from httpcore==1.*->httpx<1,>=0.23.0->openai<2.0.0,>=1.40.0->langchain-openai) (0.14.0)\n",
            "Requirement already satisfied: jsonpointer>=1.9 in /usr/local/lib/python3.10/dist-packages (from jsonpatch<2.0,>=1.33->langchain-core<0.4,>=0.3->langchain-openai) (3.0.0)\n",
            "Requirement already satisfied: orjson<4.0.0,>=3.9.14 in /usr/local/lib/python3.10/dist-packages (from langsmith<0.2.0,>=0.1.125->langchain-core<0.4,>=0.3->langchain-openai) (3.10.7)\n",
            "Requirement already satisfied: requests-toolbelt<2.0.0,>=1.0.0 in /usr/local/lib/python3.10/dist-packages (from langsmith<0.2.0,>=0.1.125->langchain-core<0.4,>=0.3->langchain-openai) (1.0.0)\n",
            "Requirement already satisfied: annotated-types>=0.6.0 in /usr/local/lib/python3.10/dist-packages (from pydantic<3.0.0,>=2.5.2->langchain-core<0.4,>=0.3->langchain-openai) (0.7.0)\n",
            "Requirement already satisfied: pydantic-core==2.23.4 in /usr/local/lib/python3.10/dist-packages (from pydantic<3.0.0,>=2.5.2->langchain-core<0.4,>=0.3->langchain-openai) (2.23.4)\n",
            "Requirement already satisfied: charset-normalizer<4,>=2 in /usr/local/lib/python3.10/dist-packages (from requests>=2.26.0->tiktoken<1,>=0.7->langchain-openai) (3.3.2)\n",
            "Requirement already satisfied: urllib3<3,>=1.21.1 in /usr/local/lib/python3.10/dist-packages (from requests>=2.26.0->tiktoken<1,>=0.7->langchain-openai) (2.2.3)\n",
            "Downloading langchain_openai-0.2.1-py3-none-any.whl (49 kB)\n",
            "\u001b[2K   \u001b[90m━━━━━━━━━━━━━━━━━━━━━━━━━━━━━━━━━━━━━━━━\u001b[0m \u001b[32m49.6/49.6 kB\u001b[0m \u001b[31m1.9 MB/s\u001b[0m eta \u001b[36m0:00:00\u001b[0m\n",
            "\u001b[?25hDownloading tiktoken-0.8.0-cp310-cp310-manylinux_2_17_x86_64.manylinux2014_x86_64.whl (1.2 MB)\n",
            "\u001b[2K   \u001b[90m━━━━━━━━━━━━━━━━━━━━━━━━━━━━━━━━━━━━━━━━\u001b[0m \u001b[32m1.2/1.2 MB\u001b[0m \u001b[31m13.3 MB/s\u001b[0m eta \u001b[36m0:00:00\u001b[0m\n",
            "\u001b[?25hInstalling collected packages: tiktoken, langchain-openai\n",
            "Successfully installed langchain-openai-0.2.1 tiktoken-0.8.0\n"
          ]
        }
      ],
      "source": [
        "!pip install spotipy\n",
        "!pip install openai\n",
        "!pip install langchain -q U\n",
        "!pip install langchain_community\n",
        "!pip install fpdf\n",
        "!pip install streamlit\n",
        "!npm install localtunnel\n",
        "!pip install -U langchain-openai"
      ]
    },
    {
      "cell_type": "markdown",
      "metadata": {
        "id": "fysuQPF5wGAw"
      },
      "source": [
        "##### **Importando as bibliotecas que serão utilizadas**"
      ]
    },
    {
      "cell_type": "code",
      "execution_count": 2,
      "metadata": {
        "id": "uOoNjYNFwG-g",
        "colab": {
          "base_uri": "https://localhost:8080/"
        },
        "outputId": "a5cae19c-cd8d-4790-e35a-01be38685404",
        "collapsed": true
      },
      "outputs": [
        {
          "output_type": "stream",
          "name": "stderr",
          "text": [
            "/usr/local/lib/python3.10/dist-packages/IPython/core/interactiveshell.py:3553: LangChainDeprecationWarning: As of langchain-core 0.3.0, LangChain uses pydantic v2 internally. The langchain_core.pydantic_v1 module was a compatibility shim for pydantic v1, and should no longer be used. Please update the code to import from Pydantic directly.\n",
            "\n",
            "For example, replace imports like: `from langchain_core.pydantic_v1 import BaseModel`\n",
            "with: `from pydantic import BaseModel`\n",
            "or the v1 compatibility namespace if you are working in a code base that has not been fully upgraded to pydantic 2 yet. \tfrom pydantic.v1 import BaseModel\n",
            "\n",
            "  exec(code_obj, self.user_global_ns, self.user_ns)\n"
          ]
        }
      ],
      "source": [
        "from spotipy.oauth2 import SpotifyClientCredentials\n",
        "import spotipy\n",
        "import sys\n",
        "from pprint import pprint\n",
        "import getpass\n",
        "import os\n",
        "import json\n",
        "import requests\n",
        "import time\n",
        "import pandas as pd\n",
        "import streamlit as st\n",
        "import altair as alt\n",
        "from langchain.schema import HumanMessage, SystemMessage\n",
        "from langchain_core.output_parsers import StrOutputParser\n",
        "from langchain_core.prompts import ChatPromptTemplate\n",
        "from langchain_core.pydantic_v1 import BaseModel, Field\n",
        "from langchain_openai import ChatOpenAI\n",
        "from langchain_core.tools import tool"
      ]
    },
    {
      "cell_type": "markdown",
      "metadata": {
        "id": "zIRu33MyOA56"
      },
      "source": [
        "##### **Configuração da API do Spotify**"
      ]
    },
    {
      "cell_type": "code",
      "execution_count": 16,
      "metadata": {
        "id": "T_TqREEKOObR"
      },
      "outputs": [],
      "source": [
        "#Configuração das credenciais da API do Spotify\n",
        "client_id = \"3dd5183184794d519b0b476b7e02c668\"\n",
        "client_secret = \"0654a709156b4382860608b8db3b5074\"\n",
        "\n",
        "#Configuração da autenticação\n",
        "auth_manager = SpotifyClientCredentials(client_id=client_id, client_secret=client_secret)\n",
        "spotify = spotipy.Spotify(auth_manager=auth_manager)\n",
        "sp = spotipy.Spotify(auth_manager=auth_manager)"
      ]
    },
    {
      "cell_type": "markdown",
      "metadata": {
        "id": "UY5QQfuJOje5"
      },
      "source": [
        "##### **Configuração da chave de acesso da LLM utilizada**"
      ]
    },
    {
      "cell_type": "code",
      "execution_count": 4,
      "metadata": {
        "colab": {
          "base_uri": "https://localhost:8080/"
        },
        "id": "W1n1fTWNOoBB",
        "outputId": "dadfc2ec-7527-40e0-8664-913f8cc0cce0",
        "collapsed": true
      },
      "outputs": [
        {
          "name": "stdout",
          "output_type": "stream",
          "text": [
            "Insira sua chave da API OpenAI: ··········\n"
          ]
        }
      ],
      "source": [
        "#Solicitar a API por parâmetro\n",
        "api_key = getpass.getpass(\"Insira sua chave da API OpenAI: \")\n",
        "\n",
        "#Armazenar a chave em uma variável de ambiente para usar diretamente com as bibliotecas\n",
        "os.environ[\"OPENAI_API_KEY\"] = api_key"
      ]
    },
    {
      "cell_type": "markdown",
      "metadata": {
        "id": "XtLLOMHjOxlx"
      },
      "source": [
        "# **Parte 2 - Extrair informações com a API do Spotify**\n",
        "---"
      ]
    },
    {
      "cell_type": "markdown",
      "metadata": {
        "id": "uiuaWY9xPGsL"
      },
      "source": [
        "No tópico a seguir, iremos, principalmente, **realizar requisições nas APIs** para conseguir **extrair as informações** que utilizaremos como **base para a realização dos prompts** com a IA.\n"
      ]
    },
    {
      "cell_type": "markdown",
      "metadata": {
        "id": "UuKorqQCQF3k"
      },
      "source": [
        "##### **Obtenção do input inicial do artista desejado**"
      ]
    },
    {
      "cell_type": "code",
      "execution_count": 17,
      "metadata": {
        "colab": {
          "base_uri": "https://localhost:8080/"
        },
        "id": "91N-3cJEP_4b",
        "outputId": "d9ec65cc-3994-4f0d-d729-23a9a6975fa6",
        "collapsed": true
      },
      "outputs": [
        {
          "output_type": "stream",
          "name": "stdout",
          "text": [
            "Digite o nome do artista que deseja usar como referência: Bruno Mars\n",
            "Nome do artista: Bruno Mars\n"
          ]
        }
      ],
      "source": [
        "#Input inicial para informar o artista desejado\n",
        "nome_artista = input(\"Digite o nome do artista que deseja usar como referência: \")\n",
        "print(f\"Nome do artista: {nome_artista}\")"
      ]
    },
    {
      "cell_type": "markdown",
      "metadata": {
        "id": "W1Ig28EaQsVl"
      },
      "source": [
        "##### **Função para recuperar o identificador exclusivo do artista no Spotify**"
      ]
    },
    {
      "cell_type": "code",
      "execution_count": 18,
      "metadata": {
        "colab": {
          "base_uri": "https://localhost:8080/"
        },
        "id": "EXhAgyEaQzAV",
        "outputId": "2c656546-422c-4dde-e2a3-cf53c54de217",
        "collapsed": true
      },
      "outputs": [
        {
          "output_type": "stream",
          "name": "stdout",
          "text": [
            "ID do artista: 0du5cEVh5yTK9QJze8zA0C\n"
          ]
        }
      ],
      "source": [
        "#Função para buscar o identificador do artista no Spotify\n",
        "def buscar_artista_id(nome_artista):\n",
        "    #Fazer a requisição para localização do artista\n",
        "    resultado = sp.search(q=nome_artista, type='artist')\n",
        "\n",
        "    #Verificar se foi possível localizar o artista\n",
        "    if resultado['artists']['items']:\n",
        "        artista_id = resultado['artists']['items'][0]['id']\n",
        "        artista_nome = resultado['artists']['items'][0]['name']\n",
        "\n",
        "        return artista_id\n",
        "    else:\n",
        "        return None\n",
        "\n",
        "#Armazenando as informações adquiridas\n",
        "id_artista = buscar_artista_id(nome_artista)\n",
        "artist_uri = f'spotify:artist:{id_artista}'\n",
        "print(f\"ID do artista: {id_artista}\")"
      ]
    },
    {
      "cell_type": "markdown",
      "metadata": {
        "id": "oaty0hs3Q1_B"
      },
      "source": [
        "##### **Capturar o nome do álbum mais famoso do artista**\n",
        "\n"
      ]
    },
    {
      "cell_type": "code",
      "execution_count": 19,
      "metadata": {
        "colab": {
          "base_uri": "https://localhost:8080/"
        },
        "id": "HUhA3mUKQ1_C",
        "outputId": "101df18a-26c8-4e22-e645-265d7055bdee",
        "collapsed": true
      },
      "outputs": [
        {
          "output_type": "stream",
          "name": "stdout",
          "text": [
            "Unorthodox Jukebox\n"
          ]
        }
      ],
      "source": [
        "#Função para buscar o nome do álbum mais famoso de um artista no Spotify usando o ID do artista\n",
        "def nome_album_mais_famoso(sp, artista_id):\n",
        "    # Obter todos os álbuns do artista\n",
        "    albuns = sp.artist_albums(artista_id, album_type='album')['items']\n",
        "\n",
        "    #Inicializar variáveis para armazenar o álbum mais famoso\n",
        "    album_mais_famoso = None\n",
        "    maior_popularidade = 0\n",
        "\n",
        "    #Iterar sobre os álbuns para verificar sua popularidade\n",
        "    for album in albuns:\n",
        "        detalhes_album = sp.album(album['id'])\n",
        "        popularidade = detalhes_album['popularity']\n",
        "\n",
        "        #Atualizar se o álbum atual tiver maior popularidade\n",
        "        if popularidade > maior_popularidade:\n",
        "            maior_popularidade = popularidade\n",
        "            album_mais_famoso = detalhes_album\n",
        "\n",
        "    #Retorna o nome do álbum mais famoso\n",
        "    return album_mais_famoso['name']\n",
        "\n",
        "#Chama a função para obter o nome do álbum mais famoso e imprime o resultado\n",
        "nome_album_mais_famoso = nome_album_mais_famoso(sp, id_artista)\n",
        "print(nome_album_mais_famoso)"
      ]
    },
    {
      "cell_type": "markdown",
      "metadata": {
        "id": "N1-IZ34ZQ2Rc"
      },
      "source": [
        "##### **Função para buscar o ID de um álbum**"
      ]
    },
    {
      "cell_type": "code",
      "execution_count": 20,
      "metadata": {
        "colab": {
          "base_uri": "https://localhost:8080/"
        },
        "id": "3O7HYVOgQ2Rc",
        "outputId": "176964ae-d6d2-4d14-cbc4-db4b55a88c5f",
        "collapsed": true
      },
      "outputs": [
        {
          "output_type": "stream",
          "name": "stdout",
          "text": [
            "ID do álbum: 58ufpQsJ1DS5kq4hhzQDiI\n"
          ]
        }
      ],
      "source": [
        "#Função para buscar o ID de um álbum no Spotify pelo nome do álbum e opcionalmente pelo nome do artista\n",
        "def buscar_album_id(sp, nome_album, nome_artista=None):\n",
        "    query = f\"album:{nome_album}\"\n",
        "\n",
        "    #Incluir o nome do artista na query, se fornecido\n",
        "    if nome_artista:\n",
        "        query += f\" artist:{nome_artista}\"\n",
        "\n",
        "    resultados = sp.search(query, type='album', limit=1)\n",
        "\n",
        "    #Verificar se algum álbum foi encontrado\n",
        "    if resultados['albums']['items']:\n",
        "        album = resultados['albums']['items'][0]\n",
        "        album_id = album['id']\n",
        "        album_nome = album['name']\n",
        "        artista_nome = album['artists'][0]['name']\n",
        "\n",
        "        return album_id\n",
        "    else:\n",
        "        print(\"Nenhum álbum encontrado.\")\n",
        "        return None\n",
        "\n",
        "#Exemplo de uso: buscar o ID de um álbum\n",
        "album_id = buscar_album_id(sp, nome_album_mais_famoso, nome_artista)\n",
        "print(f\"ID do álbum: {album_id}\")"
      ]
    },
    {
      "cell_type": "markdown",
      "metadata": {
        "id": "NoyHFVN8Q2p1"
      },
      "source": [
        "##### **Função para obter as faixas de um álbum**"
      ]
    },
    {
      "cell_type": "code",
      "execution_count": 21,
      "metadata": {
        "colab": {
          "base_uri": "https://localhost:8080/"
        },
        "collapsed": true,
        "id": "UiRsNr_HQ2p1",
        "outputId": "8d2fbd0a-ff36-4850-f1a6-5be94c89d5a6"
      },
      "outputs": [
        {
          "output_type": "stream",
          "name": "stdout",
          "text": [
            "Young Girls\n",
            "Locked out of Heaven\n",
            "Gorilla\n",
            "Treasure\n",
            "Moonshine\n",
            "When I Was Your Man\n",
            "Natalie\n",
            "Show Me\n",
            "Money Make Her Smile\n",
            "If I Knew\n"
          ]
        }
      ],
      "source": [
        "#Função para obter as faixas de um álbum pelo ID do álbum\n",
        "def album_mais_famoso_musicas(id_album_mais_famoso):\n",
        "    musicas = sp.album_tracks(id_album_mais_famoso)['items']\n",
        "    return musicas\n",
        "\n",
        "#Obter as faixas do álbum mais famoso\n",
        "album_mais_famoso_musicas = album_mais_famoso_musicas(album_id)\n",
        "\n",
        "#Imprimir o nome de cada faixa\n",
        "for i in album_mais_famoso_musicas:\n",
        "    print(i['name'])\n",
        "\n",
        "#Armazena os dados como uma lista\n",
        "tracks_album_mais_famoso = [track['name'] for track in album_mais_famoso_musicas]"
      ]
    },
    {
      "cell_type": "markdown",
      "metadata": {
        "id": "om3l91d6uUKe"
      },
      "source": [
        "# **Parte 3 - Informações gerais do artista**\n",
        "---"
      ]
    },
    {
      "cell_type": "markdown",
      "metadata": {
        "id": "0snwfp7MuUKk"
      },
      "source": [
        "No tópico a seguir, realizaremos **análises adicionais** sobre o artista e o **álbum mais famoso**, incluindo a **obtenção de álbuns**, **músicas mais ouvidas**, **imagens** e **artistas relacionados**."
      ]
    },
    {
      "cell_type": "markdown",
      "metadata": {
        "id": "GNoQ2_vmuUKk"
      },
      "source": [
        "##### **Função para obter todos os álbuns do artista**"
      ]
    },
    {
      "cell_type": "code",
      "execution_count": 22,
      "metadata": {
        "colab": {
          "base_uri": "https://localhost:8080/"
        },
        "collapsed": true,
        "id": "F9D2QNpTuUKk",
        "outputId": "287c34fb-3488-408f-887f-f6aff2a5e049"
      },
      "outputs": [
        {
          "output_type": "stream",
          "name": "stdout",
          "text": [
            "An Evening With Silk Sonic\n",
            "24K Magic\n",
            "Unorthodox Jukebox\n",
            "Doo-Wops & Hooligans\n"
          ]
        }
      ],
      "source": [
        "#Função para obter todos os álbuns do artista, incluindo paginação\n",
        "def albuns(artist_uri):\n",
        "    #Obtém os álbuns do artista\n",
        "    results = sp.artist_albums(artist_uri, album_type='album')\n",
        "    albums = results['items']\n",
        "\n",
        "    #Paginação para obter todos os álbuns\n",
        "    while results['next']:\n",
        "        results = spotify.next(results)\n",
        "        albums.extend(results['items'])\n",
        "        time.sleep(0.2)\n",
        "\n",
        "    return albums\n",
        "\n",
        "#Obtém e imprime todos os álbuns do artista\n",
        "albuns = albuns(artist_uri)\n",
        "for i in albuns:\n",
        "  print(i['name'])"
      ]
    },
    {
      "cell_type": "markdown",
      "metadata": {
        "id": "wJ7dhnmzuUKk"
      },
      "source": [
        "##### **Função para obter as músicas mais ouvidas do artista**"
      ]
    },
    {
      "cell_type": "code",
      "execution_count": 23,
      "metadata": {
        "colab": {
          "base_uri": "https://localhost:8080/"
        },
        "collapsed": true,
        "id": "x9nv3TOruUKk",
        "outputId": "10063f32-6db1-4dcf-adbe-816a6ce6bef7"
      },
      "outputs": [
        {
          "output_type": "stream",
          "name": "stdout",
          "text": [
            "Die With A Smile\n",
            "When I Was Your Man\n",
            "Locked out of Heaven\n",
            "Just the Way You Are\n",
            "That's What I Like\n",
            "Talking to the Moon\n",
            "It Will Rain\n",
            "Grenade\n",
            "24K Magic\n",
            "Marry You\n"
          ]
        }
      ],
      "source": [
        "#Função para obter as músicas mais ouvidas do artista\n",
        "def top10_tracks(artist_uri):\n",
        "    # Obtém as músicas mais ouvidas do artista\n",
        "    tracks = []\n",
        "    response = sp.artist_top_tracks(artist_uri)\n",
        "    for musica in response['tracks']:\n",
        "      tracks.append(musica) # Adiciona a música à lista de faixas\n",
        "    return tracks\n",
        "\n",
        "#Obtém e imprime as 10 músicas mais ouvidas do artista\n",
        "top_tracks = top10_tracks(id_artista)\n",
        "for i in top_tracks:\n",
        "  print(i['name'])\n",
        "\n",
        "#Armazena os dados como uma lista\n",
        "top_tracks_lista = [track['name'] for track in top_tracks]"
      ]
    },
    {
      "cell_type": "markdown",
      "metadata": {
        "id": "lyKVgms4uUKk"
      },
      "source": [
        "##### **Função para obter a imagem do artista**\n",
        "\n"
      ]
    },
    {
      "cell_type": "code",
      "execution_count": 24,
      "metadata": {
        "colab": {
          "base_uri": "https://localhost:8080/"
        },
        "id": "GA3JaXGsuUKk",
        "outputId": "cd94179f-49b1-4bb4-ee0f-4560feea81f9",
        "collapsed": true
      },
      "outputs": [
        {
          "output_type": "stream",
          "name": "stdout",
          "text": [
            "https://i.scdn.co/image/ab67616100005174c36dd9eb55fb0db4911f25dd\n"
          ]
        }
      ],
      "source": [
        "#Função para obter a imagem do artista\n",
        "def imagem(artist_uri):\n",
        "    response = sp.artist(artist_uri)\n",
        "    image_url_160 = next(image['url'] for image in response['images'] if image['width'] == 320)\n",
        "    return image_url_160\n",
        "\n",
        "#Obtém e armazena a URL da imagem do artista\n",
        "imagem = imagem(id_artista)\n",
        "print(imagem)"
      ]
    },
    {
      "cell_type": "markdown",
      "metadata": {
        "id": "fEcoaHbPuUKk"
      },
      "source": [
        "##### **Função para obter artistas relacionados**"
      ]
    },
    {
      "cell_type": "code",
      "execution_count": 25,
      "metadata": {
        "colab": {
          "base_uri": "https://localhost:8080/"
        },
        "id": "cpRLUbjuuUKl",
        "outputId": "4fb4062d-fbf2-4c24-a7c4-43b825dd62c4",
        "collapsed": true
      },
      "outputs": [
        {
          "output_type": "stream",
          "name": "stdout",
          "text": [
            "['Maroon 5', 'Jason Derulo', 'Justin Timberlake', 'Ne-Yo', 'Sam Smith', 'Charlie Puth', 'Katy Perry', 'Shawn Mendes', 'One Direction', 'Adele', 'Alicia Keys', 'Rihanna', 'Ariana Grande', 'Ed Sheeran', 'Beyoncé', 'Harry Styles', 'OneRepublic', 'USHER', 'Michael Jackson', 'Coldplay']\n"
          ]
        }
      ],
      "source": [
        "#Função para obter artistas relacionados ao artista fornecido\n",
        "def artistas_relacionados(id_artista):\n",
        "  artistas_relacionados = sp.artist_related_artists(id_artista)\n",
        "  nomes_artistas = [artista['name'] for artista in artistas_relacionados['artists']]\n",
        "  return nomes_artistas\n",
        "\n",
        "#Obtém e imprime os nomes dos artistas relacionados\n",
        "artistas_relacionados = artistas_relacionados(id_artista)\n",
        "print(artistas_relacionados)"
      ]
    },
    {
      "cell_type": "markdown",
      "metadata": {
        "id": "6HFuhj3jv65y"
      },
      "source": [
        "# **Parte 4 - Utilização da API Lyrics.ovh**\n",
        "---"
      ]
    },
    {
      "cell_type": "markdown",
      "metadata": {
        "id": "guUJPKJHv653"
      },
      "source": [
        "Neste tópico, abordaremos como obter as letras das músicas utilizando a `API Lyrics.ovh`, já que, **infelizmente**, o Spotify  **NÃO fornece letras de músicas**."
      ]
    },
    {
      "cell_type": "markdown",
      "metadata": {
        "id": "2BD1u5C5v653"
      },
      "source": [
        "##### **Função para obter a letra de uma música**"
      ]
    },
    {
      "cell_type": "code",
      "execution_count": 26,
      "metadata": {
        "colab": {
          "base_uri": "https://localhost:8080/"
        },
        "collapsed": true,
        "id": "XwQ-hFNWv653",
        "outputId": "eb3d71af-6126-4c34-ae57-82e611716ecf"
      },
      "outputs": [
        {
          "output_type": "stream",
          "name": "stdout",
          "text": [
            "1,2,1,2,3\n",
            "\n",
            "Oh yeah yeah\n",
            "Oh yeah yeah yeah\n",
            "Ooh!\n",
            "Oh yeah yeah\n",
            "\n",
            "Oh yeah yeah yeah\n",
            "\n",
            "Ooh!\n",
            "\n",
            "\n",
            "\n",
            "Never had much faith in love or miracles\n",
            "\n",
            "Never wanna put my heart on the line\n",
            "\n",
            "But swimming in your water is something spiritual\n",
            "\n",
            "I'm born again every time you spend the night\n",
            "\n",
            "\n",
            "\n",
            "Cause your sex takes me to paradise\n",
            "\n",
            "Yeah your sex takes me to paradise\n",
            "\n",
            "And it shows, yeah, yeah, yeah\n",
            "\n",
            "\n",
            "\n",
            "Cause you make me feel like, \n",
            "\n",
            "I've been locked out of heaven\n",
            "\n",
            "For too long, for too long\n",
            "\n",
            "Yeah you make me feel like, \n",
            "\n",
            "I've been locked out of heaven\n",
            "\n",
            "For too long, for too long\n",
            "\n",
            "\n",
            "\n",
            "Oh yeah yeah yeah\n",
            "\n",
            "Ooh!\n",
            "\n",
            "Oh yeah yeah\n",
            "\n",
            "Oh yeah yeah yeah\n",
            "\n",
            "Ooh!\n",
            "\n",
            "\n",
            "\n",
            "You bring me to my knees\n",
            "\n",
            "You make me testify\n",
            "\n",
            "Oh!\n",
            "\n",
            "You can make a sinner change his ways\n",
            "\n",
            "Oh!\n",
            "\n",
            "Open up your gates cause I can't wait to see the light\n",
            "\n",
            "Oh!\n",
            "\n",
            "And right there is where I wanna stay\n",
            "\n",
            "Oh!\n",
            "\n",
            "\n",
            "\n",
            "Cause your sex takes me to paradise\n",
            "\n",
            "Yeah your sex takes me to paradise\n",
            "\n",
            "And it shows, yeah, yeah, yeah\n",
            "\n",
            "\n",
            "\n",
            "Cause you make me feel like, \n",
            "\n",
            "I've been locked out of heaven\n",
            "\n",
            "For too long, for too long\n",
            "\n",
            "Yeah you make me feel like, \n",
            "\n",
            "I've been locked out of heaven\n",
            "\n",
            "For too long, for too long\n",
            "\n",
            "\n",
            "\n",
            "Oh oh oh oh, \n",
            "\n",
            "yeah, yeah, yeah\n",
            "\n",
            "Can I just stay here?\n",
            "\n",
            "Spend the rest of my days here?\n",
            "\n",
            "\n",
            "\n",
            "Oh oh oh oh, \n",
            "\n",
            "yeah, yeah, yeah\n",
            "\n",
            "Can't I just stay here?\n",
            "\n",
            "Spend the rest of my days here?\n",
            "\n",
            "\n",
            "\n",
            "Cause you make me feel like, \n",
            "\n",
            "I've been locked out of heaven\n",
            "\n",
            "For too long, for too long\n",
            "\n",
            "Yeah you make me feel like, \n",
            "\n",
            "I've been locked out of heaven\n",
            "\n",
            "For too long, for too long\n",
            "\n",
            "\n",
            "\n",
            "Oh yeah yeah yeah\n",
            "\n",
            "Ooh!\n",
            "\n",
            "Oh yeah yeah\n",
            "\n",
            "Oh yeah yeah yeah\n",
            "\n",
            "Ooh!\n"
          ]
        }
      ],
      "source": [
        "#Função para extrair a letra de uma música usando a API Lyrics.ovh\n",
        "def lyrics(nome_artista, nome_musica):\n",
        "    url = f'https://api.lyrics.ovh/v1/{nome_artista}/{nome_musica}'\n",
        "\n",
        "    #Fazendo a requisição para a API\n",
        "    response = requests.get(url)\n",
        "    letra = ''\n",
        "    if response.status_code == 200:\n",
        "        data = response.json()\n",
        "        letra = data['lyrics']\n",
        "    else:\n",
        "        print(f\"Erro na requisição. Código de status: {response.status_code}\")\n",
        "    return letra\n",
        "\n",
        "#Teste para ver se a função funciona com a primeira música da lista de músicas mais ouvidas\n",
        "print(lyrics(nome_artista, top_tracks_lista[2]))"
      ]
    },
    {
      "cell_type": "markdown",
      "metadata": {
        "id": "1LEqQx2nv653"
      },
      "source": [
        "##### **Função para salvar letras das músicas em um arquivo**\n",
        "`POR SER MUITAS REQUISIÇÕES, ESSE CÓDIGO PODE DEMORAR ALGUNS MINUTOS PARA SER REALIZADO.`"
      ]
    },
    {
      "cell_type": "code",
      "execution_count": 27,
      "metadata": {
        "colab": {
          "base_uri": "https://localhost:8080/"
        },
        "id": "EvZ1pLdlv654",
        "outputId": "b664003c-1405-4d49-9f97-bc45bb14aab4",
        "collapsed": true
      },
      "outputs": [
        {
          "output_type": "stream",
          "name": "stdout",
          "text": [
            "Erro na requisição. Código de status: 504\n",
            "Erro na requisição. Código de status: 504\n"
          ]
        }
      ],
      "source": [
        "#Função para salvar letras das músicas em um arquivo de texto\n",
        "def save_musics_database(nome_artista, tracks_lista, nome_arquivo):\n",
        "    #Abrir o arquivo para escrita\n",
        "    with open(f'{nome_arquivo}.txt', 'w', encoding='utf-8') as file:\n",
        "        for musica in tracks_lista:\n",
        "            letra = lyrics(nome_artista, musica)\n",
        "\n",
        "            #Verifica se a letra não está vazia\n",
        "            if letra:\n",
        "                #Escreve a letra da música no arquivo\n",
        "                file.write(f'Letra da música: {musica}\\n')\n",
        "                file.write(letra + '\\n')\n",
        "                #Adiciona uma linha separadora\n",
        "                file.write('-' * 80 + '\\n')\n",
        "\n",
        "#Obtém e salva a letra das músicas do álbum mais famoso\n",
        "letra_das_musicas_mais_famosas_do_album = save_musics_database(nome_artista, tracks_album_mais_famoso, \"letra_das_musicas_mais_famosas_do_album\")\n",
        "\n",
        "#Obtém e salva a letra das músicas mais ouvidas\n",
        "letra_musicas_mais_ouvidas = save_musics_database(nome_artista, top_tracks_lista, \"letra_musicas_mais_ouvidas\")\n",
        "\n",
        "#Observação: Caso ocorram erros na requisição, isso indica que uma das letras da música não foi encontrada, mas o arquivo contém apenas os que foi possível baixar"
      ]
    },
    {
      "cell_type": "markdown",
      "metadata": {
        "id": "YHNfJAPWd7Vf"
      },
      "source": [
        "# **Parte 5 - Integração prática com GPT-4o**\n",
        "---"
      ]
    },
    {
      "cell_type": "markdown",
      "metadata": {
        "id": "W_QyOOUhevx0"
      },
      "source": [
        "Nesta parte do projeto, o foco é a **integração prática com o nosso modelo de IA** para **gerar respostas** baseadas em **letras de músicas, analisar sentimentos, realizar traduções e recomendações para o usuário**. Em cada parte, iremos deixar explícito **qual a técnica de PLN que está sendo utilizada**. Além disso, em todos os códigos, nos baseamos em **langchain, engenharia de prompts e demais técnicas de processamento**."
      ]
    },
    {
      "cell_type": "markdown",
      "metadata": {
        "id": "RWo_nMJueefQ"
      },
      "source": [
        "##### **Definição do modelo padrão de IA a ser utilizado**"
      ]
    },
    {
      "cell_type": "code",
      "execution_count": 28,
      "metadata": {
        "id": "ygy6vsyboNxU"
      },
      "outputs": [],
      "source": [
        "#Definir o modelo padrão que será utilizado no projeto prático\n",
        "modelo = ChatOpenAI(\n",
        "    openai_api_key= api_key,     #Define a chave da API\n",
        "    model=\"gpt-4o\",              #Escolhe o modelo a ser utilizado\n",
        "    temperature=0.7,             #Configura a temperatura da resposta\n",
        "    n=1                          #Define o número de respostas que serão geradas\n",
        ")"
      ]
    },
    {
      "cell_type": "markdown",
      "metadata": {
        "id": "ED5MLUQ_fLme"
      },
      "source": [
        "## **1) Sumarização e Geração de Textos:**\n",
        "Uma introdução inicial do artista, resumindo seu lado artístico a partir de suas músicas mais ouvidas."
      ]
    },
    {
      "cell_type": "markdown",
      "metadata": {
        "id": "oXkkJCi7fSha"
      },
      "source": [
        "##### **Geração de texto sobre o gênero musical do artista**"
      ]
    },
    {
      "cell_type": "code",
      "execution_count": 30,
      "metadata": {
        "colab": {
          "base_uri": "https://localhost:8080/"
        },
        "collapsed": true,
        "id": "xXrsP7laSVsp",
        "outputId": "7ad4a2f7-f69d-4a3a-83f4-fba791eab009"
      },
      "outputs": [
        {
          "output_type": "stream",
          "name": "stdout",
          "text": [
            "Bruno Mars é conhecido por incorporar uma variedade de gêneros musicais em seu trabalho. Ele se encaixa nos gêneros pop, R&B, funk, soul, reggae, hip hop e rock. Sua música é frequentemente elogiada por sua versatilidade e capacidade de misturar diferentes estilos para criar sons únicos e cativantes.\n"
          ]
        }
      ],
      "source": [
        "#Cria uma lista de mensagens a serem enviadas para o modelo de chat\n",
        "mensagens = [\n",
        "    SystemMessage(content=f\"Based on the name of the artist {nome_artista} and its most listened {top_tracks}, answer the human message in Portuguese.\"),\n",
        "    HumanMessage(\"Mention the musical genres the artist fits.\")\n",
        "]\n",
        "\n",
        "#Envio das mensagens para o modelo e exibição da resposta\n",
        "genero = modelo.invoke(mensagens)\n",
        "print(genero.content)"
      ]
    },
    {
      "cell_type": "markdown",
      "metadata": {
        "id": "UoCMPiCEfrzD"
      },
      "source": [
        "##### **Realização de sumarização abstrativa para a introdução do artista**"
      ]
    },
    {
      "cell_type": "code",
      "execution_count": 31,
      "metadata": {
        "colab": {
          "base_uri": "https://localhost:8080/"
        },
        "id": "Xj5cvYr6TbNS",
        "outputId": "04275a1f-ab86-43eb-9336-0172df21f534",
        "collapsed": true
      },
      "outputs": [
        {
          "output_type": "stream",
          "name": "stdout",
          "text": [
            "Bruno Mars, nome artístico de Peter Gene Hernandez, é um cantor, compositor e produtor musical americano conhecido por sua versatilidade e habilidade de misturar diversos gêneros musicais. Sua música é uma fusão vibrante de pop, R&B, funk, soul, reggae, e rock. Mars é famoso por seus vocais suaves e performances energéticas, que capturam a essência de ícones musicais das décadas de 70 e 80 enquanto ainda soam modernos e vibrantes.\n",
            "\n",
            "Canções como \"Just the Way You Are\" e \"Grenade\" destacam suas baladas emocionais, onde ele combina letras sinceras com melodias cativantes. Em hits como \"24K Magic\" e \"That's What I Like\", Bruno Mars incorpora elementos de funk e R&B, criando faixas dançantes e cheias de groove que remetem à era disco. Além disso, músicas como \"Locked out of Heaven\" mostram sua habilidade em integrar influências do rock e reggae à sua música pop.\n",
            "\n",
            "Bruno Mars também é conhecido por suas colaborações com outros artistas, como \"Die With A Smile\" ao lado de Lady Gaga, demonstrando sua capacidade de se adaptar e brilhar em diferentes contextos musicais. Sua discografia reflete um artista que não tem medo de explorar diferentes sons e emoções, garantindo sua posição como um dos músicos mais influentes e versáteis de sua geração.\n"
          ]
        }
      ],
      "source": [
        "#Criar uma lista de mensagens para auxiliar o modelo a gerar uma sumarização abstrativa do artista\n",
        "mensagens = [\n",
        "    SystemMessage(content=f\"You are a music assistant specializing in summarizations. Perform an abstractive summarization. Answer in Portuguese.\"),\n",
        "    HumanMessage(content=f\"Make an introduction about the artist '{nome_artista}' explaining about his musical style based on the songs '{top_tracks}'.\")\n",
        "]\n",
        "\n",
        "#Captura o resultado da sumarização abstrativa + geração de conteúdo.\n",
        "introducao = modelo.invoke(mensagens)\n",
        "print(introducao.content)"
      ]
    },
    {
      "cell_type": "markdown",
      "metadata": {
        "id": "nKaIK2iqkq9F"
      },
      "source": [
        "## **2) Extração de Documento e Sumarização de Textos**\n",
        "Resumo abstrativo dado um conjunto de letras. A partir disso, tentar descrever os temas gerais abordados em suas músicas."
      ]
    },
    {
      "cell_type": "markdown",
      "metadata": {
        "id": "YsqYb9vBk8Tr"
      },
      "source": [
        "##### **Extrair as letras do arquivo e analisar seu conteúdo**"
      ]
    },
    {
      "cell_type": "code",
      "execution_count": 32,
      "metadata": {
        "colab": {
          "base_uri": "https://localhost:8080/"
        },
        "collapsed": true,
        "id": "C_6o9VBFRSTt",
        "outputId": "9ca23b46-ab59-408b-e476-eb8da040cca4"
      },
      "outputs": [
        {
          "output_type": "stream",
          "name": "stdout",
          "text": [
            "Bruno Mars é um artista conhecido por suas letras cativantes e emocionais que abordam temas universais como o amor, a perda e a celebração. Suas músicas são muitas vezes uma mistura de diferentes gêneros, incluindo pop, R&B, soul e funk, o que amplia seu apelo e popularidade.\n",
            "\n",
            "1. **When I Was Your Man**: Esta música reflete arrependimento e remorso por não ter apreciado um relacionamento enquanto ainda havia tempo. As letras falam sobre a dor de ver alguém que amava seguir em frente com outra pessoa e o reconhecimento dos próprios erros.\n",
            "\n",
            "2. **Locked out of Heaven**: Aqui, Mars compara a experiência de estar apaixonado a uma sensação quase espiritual, falando sobre como a intimidade com seu amor o faz sentir-se como se estivesse no paraíso.\n",
            "\n",
            "3. **Just the Way You Are**: É uma declaração de amor incondicional, enfatizando a beleza e perfeição do parceiro exatamente como ele é, sem nenhuma necessidade de mudança.\n",
            "\n",
            "4. **That's What I Like**: Nesta música, ele fala sobre proporcionar uma vida cheia de luxos e prazeres para sua parceira, destacando o que ele gosta em um relacionamento cheio de diversão e romance.\n",
            "\n",
            "5. **Talking to the Moon**: Esta faixa expressa a solidão e a esperança de que a pessoa amada, embora distante, ainda possa ouvi-lo, transmitindo um desejo profundo de reconexão.\n",
            "\n",
            "6. **It Will Rain**: A música trata do medo da separação e da dor iminente que isso causaria, usando metáforas de tempo e clima para expressar o desespero emocional.\n",
            "\n",
            "7. **Grenade**: Aqui, Mars fala sobre um amor não correspondido, disposto a sacrificar tudo por alguém que não retribui o mesmo nível de devoção.\n",
            "\n",
            "8. **24K Magic**: Esta canção é uma celebração do luxo e da vida extravagante, com uma energia vibrante e dançante que captura a essência de festejar e aproveitar o momento.\n",
            "\n",
            "9. **Marry You**: A música aborda a espontaneidade e a simplicidade de decidir se casar, destacando o amor e a diversão como principais motivadores para um compromisso.\n",
            "\n",
            "A fama de Bruno Mars pode ser atribuída à sua habilidade de criar músicas que são tanto emocionalmente ressonantes quanto irresistivelmente dançantes. Suas letras muitas vezes refletem vulnerabilidade e sinceridade, o que ressoa com muitos ouvintes. Além disso, sua presença de palco carismática e sua versatilidade como cantor, compositor e produtor o tornam um artista completo no cenário musical.\n"
          ]
        }
      ],
      "source": [
        "#Caminho para o arquivo txt extraído contendo as letras das músicas mais ouvidas\n",
        "caminho_arquivo = '/content/letra_musicas_mais_ouvidas.txt'\n",
        "\n",
        "#Ler o conteúdo do arquivo capturado\n",
        "with open(caminho_arquivo, 'r', encoding='utf-8') as file:\n",
        "    conteudo = file.read()\n",
        "\n",
        "#Através do conteúdo do arquivo, realizar uma análise da letra\n",
        "mensagens = [\n",
        "    SystemMessage(content=\"You are a song lyrics analyst. Make a abstractive summarization and try to explain why the artist is so famous. Answer in Portuguese\"),\n",
        "    HumanMessage(content=f\"Analyze the lyrics: {conteudo}\")\n",
        "]\n",
        "\n",
        "#Capturar a análise da letra gerada pela IA\n",
        "analise_letra = modelo.invoke(mensagens)\n",
        "print(analise_letra.content)"
      ]
    },
    {
      "cell_type": "markdown",
      "metadata": {
        "id": "qzES-n54geJE"
      },
      "source": [
        "## **3) Extração e Detecção de Emoções**"
      ]
    },
    {
      "cell_type": "markdown",
      "metadata": {
        "id": "ZdluslGkgmr1"
      },
      "source": [
        "##### **Obter as principais emoções de um texto do usuário para sugerir 10 músicas para uma playlist**"
      ]
    },
    {
      "cell_type": "code",
      "execution_count": 33,
      "metadata": {
        "colab": {
          "base_uri": "https://localhost:8080/"
        },
        "id": "vK-O-FbUy1Jv",
        "outputId": "1dbcab88-464c-4bda-cdc4-6afc69f53822",
        "collapsed": true
      },
      "outputs": [
        {
          "output_type": "stream",
          "name": "stdout",
          "text": [
            "1. \"Fix You\" - Coldplay  \n",
            "2. \"Someone Like You\" - Adele  \n",
            "3. \"Stay With Me\" - Sam Smith  \n",
            "4. \"Photograph\" - Ed Sheeran  \n",
            "5. \"When I Was Your Man\" - Bruno Mars  \n",
            "6. \"The A Team\" - Ed Sheeran  \n",
            "7. \"Un-thinkable (I'm Ready)\" - Alicia Keys  \n",
            "8. \"Breakeven\" - The Script  \n",
            "9. \"Half of My Heart\" - John Mayer (feat. Taylor Swift)  \n",
            "10. \"Gravity\" - John Mayer  \n"
          ]
        }
      ],
      "source": [
        "#Definição do texto do usuário\n",
        "texto_usuario = '''Hoje eu tive um dia bem cansativo, tanto na faculdade como no trabalho.\n",
        " Recebi a devolutiva de uma nota e fui pior do que esperava, e ainda no ambiente corporativo,\n",
        " recebi uma bronca do meu chefe. Gostaria agora apenas de deitar na minha cama e ouvir algumas músicas.\n",
        " '''\n",
        "\n",
        "#Classe para recuperar apenas as informações relevantes do texto do usuário\n",
        "class AnaliseSentimentoTexto(BaseModel):\n",
        "  emocoes: str = Field(description=\"Quais as emoções mais presentes no texto?\")\n",
        "  forcaEmocoes: str = Field(description=\"Qual a força geral dessas emoções?\", enum=[1, 2, 3, 4, 5, 6, 7, 8, 9, 10])\n",
        "\n",
        "#Criação de template de prompt para recuperar o sentimento\n",
        "prompt = ChatPromptTemplate.from_template(\n",
        "    \"\"\"\n",
        "    Extract only the properties mentioned in the class 'AnaliseSentimentoTexto'\n",
        "\n",
        "    User text:\n",
        "    {texto_usuario}\n",
        "    \"\"\"\n",
        ")\n",
        "\n",
        "#Configuração do modelo estruturado\n",
        "modelo_estruturado = modelo.with_structured_output(AnaliseSentimentoTexto)\n",
        "\n",
        "#Inicializa o segundo modelo com o template e as respostas estruturadas\n",
        "chain = prompt | modelo_estruturado\n",
        "\n",
        "retorno_estruturado = chain.invoke({\"texto_usuario\": texto_usuario})\n",
        "emocoes = retorno_estruturado.emocoes\n",
        "forcaEmocoes = retorno_estruturado.forcaEmocoes\n",
        "\n",
        "prompt = ChatPromptTemplate.from_template(\n",
        "    \"\"\"\n",
        "    Given the main emotions and its strengths from the user's text, and considering related artists to the main artist, suggest 10 songs for a playlist that matches the sentiment and strength.\n",
        "\n",
        "    Emotions: {emocoes}\n",
        "    Emotions Strength: {forcaEmocoes}\n",
        "    Related Artists: {artistasRelacionados}\n",
        "\n",
        "    Please provide only the list of 10 song suggestions with artist names.\n",
        "    \"\"\"\n",
        ")\n",
        "\n",
        "chain = prompt | modelo\n",
        "\n",
        "recomendacoes = chain.invoke({\"emocoes\": emocoes, \"forcaEmocoes\": forcaEmocoes, \"artistasRelacionados\": artistas_relacionados})\n",
        "print(recomendacoes.content)"
      ]
    },
    {
      "cell_type": "markdown",
      "metadata": {
        "id": "043yJgZHn37b"
      },
      "source": [
        "### **Realizar gráfico de pizza com extração de emoções**"
      ]
    },
    {
      "cell_type": "markdown",
      "metadata": {
        "id": "92BMX3BAmhuz"
      },
      "source": [
        "##### **Extrair as letras das músicas mais famosas do álbum para gerar um gráfico de pizza**"
      ]
    },
    {
      "cell_type": "code",
      "execution_count": 34,
      "metadata": {
        "colab": {
          "base_uri": "https://localhost:8080/"
        },
        "collapsed": true,
        "id": "Q5Mb5BPupqG6",
        "outputId": "81989e8b-76d7-4f91-cf72-4e5cff214a07"
      },
      "outputs": [
        {
          "output_type": "stream",
          "name": "stdout",
          "text": [
            "Amor: 25%\n",
            "Desejo: 20%\n",
            "Arrependimento: 15%\n",
            "Tristeza: 10%\n",
            "Euforia: 10%\n",
            "Frustração: 10%\n",
            "Nostalgia: 5%\n",
            "Raiva: 5%\n"
          ]
        }
      ],
      "source": [
        "#Caminho para o arquivo txt extraído contendo as letras das músicas do álbum mais famoso\n",
        "caminho_arquivo = '/content/letra_das_musicas_mais_famosas_do_album.txt'\n",
        "\n",
        "modelo_unico = ChatOpenAI(\n",
        "    openai_api_key= api_key,\n",
        "    model=\"gpt-4o\",\n",
        "    temperature=0,\n",
        "    n=1\n",
        ")\n",
        "\n",
        "#Ler o conteúdo do arquivo capturado\n",
        "with open(caminho_arquivo, 'r', encoding='utf-8') as file:\n",
        "    conteudo = file.read()\n",
        "\n",
        "#Solicitar para que a IA extraia as emoções das letras e gere um retorno em porcentagem, para montarmos um gráfico de pizza\n",
        "mensagens = [\n",
        "    SystemMessage(content=\"You are a lyric analyst. Name all the emotions present and try to do an analysis of the percentage of each emotion present in the album.\"),\n",
        "    HumanMessage(content=f\"{conteudo}. Return only the emotions and their percentages, NOTHING ELSE. Your output will be used to create a graph. Remove any markdown formatting from the text. Awnser in Portuguese.\")\n",
        "]\n",
        "\n",
        "sentimentos = modelo_unico.invoke(mensagens)\n",
        "print(sentimentos.content)"
      ]
    },
    {
      "cell_type": "markdown",
      "metadata": {
        "id": "-O6_9qWGn_Wh"
      },
      "source": [
        "##### **Colocando as emoções e porcentagens em uma lista para montagem do gráfico**"
      ]
    },
    {
      "cell_type": "code",
      "execution_count": 35,
      "metadata": {
        "colab": {
          "base_uri": "https://localhost:8080/"
        },
        "collapsed": true,
        "id": "38sV5RpMrYmb",
        "outputId": "5aa6d17b-c4ed-4a80-e5c3-a5bd45c3d9df"
      },
      "outputs": [
        {
          "output_type": "stream",
          "name": "stdout",
          "text": [
            "Categorias: ['Amor', 'Desejo', 'Arrependimento', 'Tristeza', 'Euforia', 'Frustração', 'Nostalgia', 'Raiva']\n",
            "Percentuais: [25.0, 20.0, 15.0, 10.0, 10.0, 10.0, 5.0, 5.0]\n"
          ]
        }
      ],
      "source": [
        "#String fornecida\n",
        "dados = sentimentos.content\n",
        "\n",
        "#Remover aspas duplas\n",
        "dados = dados.replace('\"', '')\n",
        "\n",
        "#Processar a string para extrair categorias e percentuais\n",
        "categorias = []\n",
        "percentuais = []\n",
        "\n",
        "#Dividir a string em linhas\n",
        "linhas = dados.strip().split('\\n')\n",
        "\n",
        "for linha in linhas:\n",
        "    #Verificar se a linha contém um separador (:)\n",
        "    if ':' in linha:\n",
        "        #Separar a linha em categoria e percentual\n",
        "        parte_categoria, parte_percentual = linha.split(':')\n",
        "        categoria = parte_categoria.strip('- ').strip()\n",
        "        percentual = parte_percentual.strip('% ').strip()\n",
        "\n",
        "        #Adicionar os valores às listas\n",
        "        categorias.append(categoria)\n",
        "        percentuais.append(float(percentual))\n",
        "    else:\n",
        "        #Lidar com linhas que não contêm o separador\n",
        "        print(f\"Linha ignorada (sem separador): {linha}\")\n",
        "\n",
        "#Exibir as listas para verificação\n",
        "print(\"Categorias:\", categorias)\n",
        "print(\"Percentuais:\", percentuais)"
      ]
    },
    {
      "cell_type": "markdown",
      "metadata": {
        "id": "ybknA9UcoJtK"
      },
      "source": [
        "##### **Montar o gráfico de pizza dos sentimentos com a biblioteca pandas**"
      ]
    },
    {
      "cell_type": "code",
      "execution_count": 36,
      "metadata": {
        "id": "evYF1maOtd7V"
      },
      "outputs": [],
      "source": [
        "#Processar a string para extrair categorias e percentuais\n",
        "categorias = []\n",
        "percentuais = []\n",
        "\n",
        "#Dividir a string em linhas\n",
        "linhas = dados.strip().split('\\n')\n",
        "\n",
        "for linha in linhas:\n",
        "    #Separar a linha em categoria e percentual\n",
        "    parte_categoria, parte_percentual = linha.split(':')\n",
        "    categoria = parte_categoria.strip('- ').strip()\n",
        "    percentual = parte_percentual.strip('% ').strip()\n",
        "\n",
        "    #Adicionar os valores às listas\n",
        "    categorias.append(categoria)\n",
        "    percentuais.append(float(percentual))\n",
        "\n",
        "#Criar um DataFrame com os dados\n",
        "df = pd.DataFrame({\n",
        "    'Emoção': categorias,\n",
        "    'Percentual': percentuais\n",
        "})\n",
        "\n",
        "# Criar gráfico de pizza usando Altair\n",
        "grafico_emocoes = alt.Chart(df).mark_arc().encode(\n",
        "    theta=alt.Theta(field='Percentual', type='quantitative'),\n",
        "    color=alt.Color(field='Emoção', type='nominal'),\n",
        "    tooltip=['Emoção', 'Percentual']\n",
        ").properties(\n",
        "    title='Distribuição das Emoções',\n",
        "    width=600,\n",
        "    height=400\n",
        ").interactive()"
      ]
    },
    {
      "cell_type": "markdown",
      "metadata": {
        "id": "hlwO2noHpKG-"
      },
      "source": [
        "### **4) Extração de Palavras-Chave**\n",
        "- Analisar o álbum mais famoso do artista, descrevendo os temas mais abordados, palavras-chave e seu impacto.\n",
        "\n",
        "- A análise é feita em cima do arquivo.txt elaborado que armazena todas as letras desse álbum."
      ]
    },
    {
      "cell_type": "markdown",
      "metadata": {
        "id": "nEp8B_qwpXgu"
      },
      "source": [
        "##### **Extrair as palavras chaves das músicas do álbum mais famoso do artista**"
      ]
    },
    {
      "cell_type": "code",
      "execution_count": 37,
      "metadata": {
        "colab": {
          "base_uri": "https://localhost:8080/"
        },
        "collapsed": true,
        "id": "J_f62M8vhx54",
        "outputId": "cd75baeb-419e-4a32-8662-fbef7ca226d0"
      },
      "outputs": [
        {
          "output_type": "stream",
          "name": "stdout",
          "text": [
            "Significado da letra: O álbum aborda temas como o amor, a paixão, a luxúria e as consequências emocionais dessas experiências. As músicas exploram a intensidade emocional dos relacionamentos, a busca por prazeres imediatos e os arrependimentos associados a escolhas passadas. Há um foco em experiências de paixão avassaladora, tanto positiva quanto negativa, e reflexões sobre oportunidades perdidas e erros cometidos no amor.\n",
            "\n",
            "Palavras-Chave:Amor, paixão, luxúria, arrependimento, relacionamentos, intensidade emocional, prazer, juventude, erros, escolha, consequências.\n",
            "\n",
            "Impacto cultura do álbum: O álbum teve um impacto cultural significativo ao capturar a essência de experiências emocionais intensas e complexas que ressoam com muitos ouvintes. As músicas, com seus temas universais de amor e paixão, se conectam profundamente com o público, destacando-se no cenário musical por suas letras sinceras e emotivas. O artista solidificou sua posição como um dos principais intérpretes de baladas românticas contemporâneas.\n",
            "\n",
            "Receita gerada pelo álbum:O álbum gerou uma receita substancial, com milhões de cópias vendidas em todo o mundo. Além das vendas de álbuns, os singles foram grandes sucessos comerciais, contribuindo para o aumento significativo na receita por meio de vendas digitais, streaming e direitos de execução. As turnês relacionadas ao álbum também adicionaram uma fonte significativa de receita, atraindo grandes públicos internacionalmente.\n"
          ]
        }
      ],
      "source": [
        "#Caminho para o arquivo txt extraído contendo as letras das músicas do álbum mais famoso\n",
        "caminho_arquivo = '/content/letra_das_musicas_mais_famosas_do_album.txt'\n",
        "\n",
        "#Ler o conteúdo do arquivo capturado\n",
        "with open(caminho_arquivo, 'r', encoding='utf-8') as file:\n",
        "    conteudo = file.read()\n",
        "\n",
        "#Definir a classe estruturada para retornar as palavras-chave das letras\n",
        "class ExtracaoPalavrasChave(BaseModel):\n",
        "    significadoLetra: str = Field(description=\"Quais os temas abordados no álbum?\")\n",
        "    palavra_chave: str = Field(description=\"Quais são as palavras-chave do álbum?\")\n",
        "    impactoCultural: str = Field(description=\"Qual o impacto cultural do álbum?\")\n",
        "    receitaGerada: str = Field(description=\"Qual foi a receita gerada pelo álbum?\")\n",
        "\n",
        "#Configuração do modelo estruturado\n",
        "modelo_estruturado3 = modelo.with_structured_output(ExtracaoPalavrasChave)\n",
        "\n",
        "#Criação do template de prompt para extrair apenas as propriedades da classe criada\n",
        "prompt = ChatPromptTemplate.from_template(\n",
        "    \"\"\"\n",
        "    You're a really prestative worker. You'll receive lyrics of the most listened album of an artist. By the lyrics, you'll have to describe what the album is about. Try to find a logic between the tracks. Mention key words .Answer the human message in Portuguese.Answer in markdown and separate the topics in the answer using Markdown.\n",
        "\n",
        "    Extract only the properties mentioned in the class 'ExtracaoPalavrasChave'\n",
        "\n",
        "    Content:\n",
        "    {content}\n",
        "    \"\"\"\n",
        ")\n",
        "\n",
        "chain = prompt | modelo_estruturado3\n",
        "\n",
        "retorno_estruturado = chain.invoke({\"content\": conteudo})\n",
        "\n",
        "significadoLetra = retorno_estruturado.significadoLetra\n",
        "impactoCultural = retorno_estruturado.impactoCultural\n",
        "receitaGerada = retorno_estruturado.receitaGerada\n",
        "palavra_chave = retorno_estruturado.palavra_chave\n",
        "\n",
        "analise_album = (\"Significado da letra: \" + significadoLetra +\"\\n\\nPalavras-Chave:\"+ palavra_chave + \"\\n\\nImpacto cultura do álbum: \" + impactoCultural + \"\\n\\nReceita gerada pelo álbum:\" + receitaGerada)\n",
        "print(analise_album)"
      ]
    },
    {
      "cell_type": "markdown",
      "metadata": {
        "id": "Hyk8KL5ahYaN"
      },
      "source": [
        "## **5) Tradução de Textos**"
      ]
    },
    {
      "cell_type": "markdown",
      "metadata": {
        "id": "NjZS13DWo6TX"
      },
      "source": [
        "### **Realizar a tradução de uma música especificada pelo usuário**"
      ]
    },
    {
      "cell_type": "markdown",
      "metadata": {
        "id": "WYhXhpgchk70"
      },
      "source": [
        "##### **Receber o nome do artista e da música**\n",
        "`OBS: Precisa ser uma música do artista escolhido inicialmente para não dar erro.`"
      ]
    },
    {
      "cell_type": "code",
      "execution_count": 40,
      "metadata": {
        "colab": {
          "base_uri": "https://localhost:8080/"
        },
        "id": "u0CEn2IIh8Wi",
        "outputId": "0fdbb52f-a16a-40ca-a2c0-2788cb8b675d",
        "collapsed": true
      },
      "outputs": [
        {
          "output_type": "stream",
          "name": "stdout",
          "text": [
            "Digite o nome da música que deseja saber a tradução: When I Was Your Man\n",
            "Nome da música: When I Was Your Man\n",
            "Digite o idioma que deseja a tradução: Espanhol\n",
            "Idioma escolhido: Espanhol\n"
          ]
        }
      ],
      "source": [
        "#Definir a música desejada para a tradução\n",
        "nome_musica = input(\"Digite o nome da música que deseja saber a tradução: \")\n",
        "print(f\"Nome da música: {nome_musica}\")\n",
        "\n",
        "\n",
        "#Definir a música desejada para a tradução\n",
        "idioma_traducao = input(\"Digite o idioma que deseja a tradução: \")\n",
        "print(f\"Idioma escolhido: {idioma_traducao}\")"
      ]
    },
    {
      "cell_type": "markdown",
      "metadata": {
        "id": "gF9c9A-8kY1I"
      },
      "source": [
        "##### **Criação de ferramenta (tool) para recuperar a lyrics desejada**"
      ]
    },
    {
      "cell_type": "code",
      "execution_count": 41,
      "metadata": {
        "id": "mTm1b1ldkeCL"
      },
      "outputs": [],
      "source": [
        "#Criação de ferramenta para recuperar a lyrics desejada para a tradução\n",
        "@tool\n",
        "def CapturarLyrics(nome_artista: str, nome_musica: str):\n",
        "    \"\"\"Captura a lyrics desejada dado o nome do artista e da música\"\"\"\n",
        "    #Monta a URL da API com o nome do artista e da música\n",
        "    url = f'https://api.lyrics.ovh/v1/{nome_artista}/{nome_musica}'\n",
        "\n",
        "    #Fazendo a requisição para a API\n",
        "    response = requests.get(url)\n",
        "    letra = None\n",
        "    #Verifica se a resposta da API foi bem-sucedida\n",
        "    if response.status_code == 200:\n",
        "        #Caso bem-sucedida, extrai a letra da resposta JSON\n",
        "        data = response.json()\n",
        "        letra = data['lyrics']\n",
        "    else:\n",
        "        #Em caso de erro, imprime o código de status da requisição\n",
        "        print(f\"Erro na requisição. Código de status: {response.status_code}\")\n",
        "    return letra"
      ]
    },
    {
      "cell_type": "markdown",
      "metadata": {
        "id": "BK7qXfc8juhp"
      },
      "source": [
        "##### **Realizar a requisição da tool para captura da letra desejada e o idioma da música**"
      ]
    },
    {
      "cell_type": "code",
      "execution_count": 42,
      "metadata": {
        "id": "9w_Q0UHXUIWB"
      },
      "outputs": [],
      "source": [
        "#Definir a calsse estruturada para retornar o idioma em que o texto está escrito\n",
        "class IdiomaLyricsDesejada(BaseModel):\n",
        "    idioma: str = Field(description=\"O idioma em que o texto está escrito\")\n",
        "\n",
        "#Configuração do modelo estruturado\n",
        "modelo_estruturado2 = modelo.with_structured_output(IdiomaLyricsDesejada)\n",
        "\n",
        "#Criação do template de prompt para extrair apenas as propriedades da classe criada\n",
        "prompt = ChatPromptTemplate.from_template(\n",
        "    \"\"\"\n",
        "    Extract only the properties mentioned in the class 'IdiomaLyricsDesejada'\n",
        "\n",
        "    Lyrcs:\n",
        "    {lyrics}\n",
        "    \"\"\"\n",
        ")\n",
        "\n",
        "chain = prompt | modelo_estruturado2\n",
        "\n",
        "lyrics = CapturarLyrics.invoke({\"nome_artista\": nome_artista, \"nome_musica\": nome_musica})\n",
        "\n",
        "if lyrics:\n",
        "    retorno_estruturado = chain.invoke({\"lyrics\": lyrics})\n",
        "    idiomaOriginal = retorno_estruturado.idioma\n",
        "else:\n",
        "    print(\"Não foi possível recuperar a letra da música.\")"
      ]
    },
    {
      "cell_type": "markdown",
      "metadata": {
        "id": "4rYbup5uj-kB"
      },
      "source": [
        "##### **Realizar a tradução da letra**"
      ]
    },
    {
      "cell_type": "code",
      "execution_count": 43,
      "metadata": {
        "colab": {
          "base_uri": "https://localhost:8080/"
        },
        "collapsed": true,
        "id": "Ne6kOoZnkDcM",
        "outputId": "7b57b718-c610-447a-b576-bbcb6e5f0069"
      },
      "outputs": [
        {
          "output_type": "stream",
          "name": "stdout",
          "text": [
            "La misma cama, pero ahora se siente un poco más grande  \n",
            "Nuestra canción en la radio, pero no suena igual  \n",
            "Cuando nuestros amigos hablan de ti, todo lo que hace es derribarme  \n",
            "Porque mi corazón se rompe un poco cuando escucho tu nombre  \n",
            "Y todo suena como uh, uh, uh  \n",
            "\n",
            "Hmm, demasiado joven, demasiado tonto para darme cuenta  \n",
            "\n",
            "Que debería haberte comprado flores y tomado de la mano  \n",
            "Debería haberte dado todas mis horas cuando tuve la oportunidad  \n",
            "Llevarte a cada fiesta porque todo lo que querías hacer era bailar  \n",
            "Ahora mi nena está bailando, pero está bailando con otro hombre.  \n",
            "\n",
            "Mi orgullo, mi ego, mis necesidades y mis maneras egoístas  \n",
            "Causaron que una buena mujer fuerte como tú saliera de mi vida  \n",
            "Ahora nunca, nunca llego a limpiar el desastre que hice  \n",
            "Y eso me duele cada vez que cierro los ojos  \n",
            "Todo suena como uh, uh, uh, uh  \n",
            "\n",
            "Demasiado joven, demasiado tonto para darme cuenta  \n",
            "\n",
            "Que debería haberte comprado flores y tomado de la mano  \n",
            "Debería haberte dado todas mis horas cuando tuve la oportunidad  \n",
            "Llevarte a cada fiesta porque todo lo que querías hacer era bailar  \n",
            "Ahora mi nena está bailando, pero está bailando con otro hombre.  \n",
            "\n",
            "Aunque me duele, seré el primero en decir que estaba equivocado  \n",
            "Oh, sé que probablemente es demasiado tarde  \n",
            "Para intentar disculparme por mis errores  \n",
            "Pero solo quiero que sepas  \n",
            "\n",
            "Espero que él te compre flores, espero que te tome de la mano  \n",
            "Te dé todas sus horas cuando tenga la oportunidad  \n",
            "Te lleve a cada fiesta porque recuerdo cuánto te encantaba bailar  \n",
            "Hacer todas las cosas que debería haber hecho cuando era tu hombre  \n",
            "Hacer todas las cosas que debería haber hecho cuando era tu hombre.\n"
          ]
        }
      ],
      "source": [
        "#Definição das mensagens para tradução da letra\n",
        "mensagens = [\n",
        "    # Mensagem de sistema que configura o comportamento da IA\n",
        "    SystemMessage(content=\"You are a really prestative worker. You will receive the lyrics of a song, the language it is in and which language the translation was desired for. Answer with the translated lyrics. If the lyrics is already in the desired language, show the original lyrics.\"),\n",
        "\n",
        "    #Mensagem humana que solicita a tradução das letras\n",
        "    HumanMessage(content=f\"Translate the lyrics from {idiomaOriginal} to {idioma_traducao}. Consider the following song lyrics: {lyrics}\")\n",
        "]\n",
        "\n",
        "lyrics_traduzida = modelo.invoke(mensagens)\n",
        "print(lyrics_traduzida.content)"
      ]
    },
    {
      "cell_type": "markdown",
      "metadata": {
        "id": "LC0UHHrRr9yp"
      },
      "source": [
        "## **6) Sistema de Perguntas e Respostas**"
      ]
    },
    {
      "cell_type": "markdown",
      "metadata": {
        "id": "5YA_z5TBtLhY"
      },
      "source": [
        "##### **Solicitação da pergunta do usuário**"
      ]
    },
    {
      "cell_type": "code",
      "execution_count": 44,
      "metadata": {
        "colab": {
          "base_uri": "https://localhost:8080/"
        },
        "id": "yfsvYv-btS_t",
        "outputId": "64187e5b-65c2-499f-9dda-00dbce1e400c"
      },
      "outputs": [
        {
          "output_type": "stream",
          "name": "stdout",
          "text": [
            "Qual dúvida você possui sobre a letra da música/artista?Qual foi a música que tornou o artista famoso?\n",
            "Pergunta: Qual foi a música que tornou o artista famoso?\n"
          ]
        }
      ],
      "source": [
        "#Defina a pergunta a ser realizada\n",
        "pergunta = input(\"Qual dúvida você possui sobre a letra da música/artista?\")\n",
        "print(f\"Pergunta: {pergunta}\")"
      ]
    },
    {
      "cell_type": "markdown",
      "metadata": {
        "id": "PBHiWuEBr9yu"
      },
      "source": [
        "##### **Criação de template para resposta da pergunta realizada pelo usuário**"
      ]
    },
    {
      "cell_type": "code",
      "execution_count": 45,
      "metadata": {
        "colab": {
          "base_uri": "https://localhost:8080/"
        },
        "id": "4qquvHEAZ83O",
        "outputId": "2fbee12c-3935-4c3d-98c9-b02c53739793"
      },
      "outputs": [
        {
          "output_type": "stream",
          "name": "stdout",
          "text": [
            "Pergunta: Qual foi a música que tornou o artista famoso?\n",
            "Resposta: A música que tornou Bruno Mars famoso foi \"Just the Way You Are\".\n"
          ]
        }
      ],
      "source": [
        "# Criação de template de prompt para as perguntas\n",
        "prompt = ChatPromptTemplate.from_template(\n",
        "    \"\"\"\n",
        "    Answer the following question, given its lyrics, the name of the artist and the name of the song. Be succinct in your answer. Answer in Portuguese.\n",
        "\n",
        "    Letra da Música: {lyrics}\n",
        "    Nome do artista: {nomeArtista}\n",
        "    Nome da música: {nomeMusica}\n",
        "    Pergunta: {pergunta}\n",
        "    \"\"\"\n",
        ")\n",
        "\n",
        "chain = prompt | modelo\n",
        "\n",
        "#Para cada pergunta, o modelo é invocado, gerando uma resposta com base na letra\n",
        "resposta = chain.invoke({\"lyrics\": lyrics, \"nomeArtista\": nome_artista, \"nomeMusica\": nome_musica, \"pergunta\": pergunta})\n",
        "\n",
        "#Exibe a pergunta e a resposta gerada\n",
        "print(\"Pergunta: \" + pergunta + \"\\n\" + \"Resposta: \" + resposta.content)"
      ]
    },
    {
      "cell_type": "markdown",
      "metadata": {
        "id": "38WtImvrsMf6"
      },
      "source": [
        "# **Parte 6 - Apresentação dos dados no streamlit**\n",
        "---"
      ]
    },
    {
      "cell_type": "markdown",
      "metadata": {
        "id": "0el7yNtlsMf7"
      },
      "source": [
        "Nesta parte do projeto, o foco é a **exibição dos dados no Streamlit**, permitindo uma **visualização interativa e acessível** das informações processadas.\n",
        "A cada etapa, **explicamos claramente como os dados foram organizados** e apresentados, **utilizando componentes do Streamlit** para criar uma **interface amigável**."
      ]
    },
    {
      "cell_type": "markdown",
      "metadata": {
        "id": "bcg25CKEt01c"
      },
      "source": [
        "##### **Definição de informações gerais do artista para montagem da interface**"
      ]
    },
    {
      "cell_type": "code",
      "execution_count": 46,
      "metadata": {
        "colab": {
          "base_uri": "https://localhost:8080/"
        },
        "id": "U2dyxgikOOdv",
        "outputId": "29d44737-31d3-4883-9d2d-141d7a2277b9",
        "collapsed": true
      },
      "outputs": [
        {
          "output_type": "stream",
          "name": "stdout",
          "text": [
            "Artista: Bruno Mars\n",
            "Seguidores: 59647284\n",
            "Gêneros: dance pop, pop\n",
            "Popularidade: 93\n"
          ]
        }
      ],
      "source": [
        "#Obtém informações sobre o artista e extrai dados importantes\n",
        "artista_info = sp.artist(id_artista)\n",
        "followers = artista_info['followers']['total']  #Número total de seguidores\n",
        "genres = artista_info['genres']  # Gêneros musicais\n",
        "popularity = artista_info['popularity']  #Popularidade do artista\n",
        "\n",
        "#Exibe as informações do artista\n",
        "print(f\"Artista: {nome_artista}\")\n",
        "print(f\"Seguidores: {followers}\")\n",
        "print(f\"Gêneros: {', '.join(genres)}\")\n",
        "print(f\"Popularidade: {popularity}\")"
      ]
    },
    {
      "cell_type": "markdown",
      "metadata": {
        "id": "ThYo7KGjt_Vt"
      },
      "source": [
        "##### **Montagem de gráfico de barra para a exibição**"
      ]
    },
    {
      "cell_type": "code",
      "execution_count": 47,
      "metadata": {
        "id": "hY5ngkiWUKSm"
      },
      "outputs": [],
      "source": [
        "# Função para extrair nomes das músicas\n",
        "def musicas_eixoy(top_tracks):\n",
        "  track_names = [track['name'] for track in top_tracks]# Extrai os nomes das músicas\n",
        "  return track_names\n",
        "\n",
        "# Função para extrair a popularidade das músicas\n",
        "def popularidade_eixoy(top_tracks):\n",
        "  popularidade = [track['popularity'] for track in top_tracks]# Extrai a popularidade das músicas\n",
        "  return popularidade\n",
        "\n",
        "musicas_eixoy = musicas_eixoy(top_tracks)\n",
        "popularidade_eixox = popularidade_eixoy(top_tracks)\n",
        "\n",
        "# Criar um DataFrame com os dados\n",
        "df = pd.DataFrame({\n",
        "    'Música': musicas_eixoy,\n",
        "    'Popularidade': popularidade_eixox\n",
        "})\n",
        "\n",
        "# Criar gráfico usando Altair\n",
        "grafico_popularidade = alt.Chart(df).mark_bar().encode(\n",
        "    x='Popularidade:Q',# Eixo X com a popularidade\n",
        "    y=alt.Y('Música:N', sort='-x'),# Eixo Y com as músicas, ordenado pela popularidade\n",
        "    tooltip=['Música', 'Popularidade']# Exibe o nome da música e a popularidade ao passar o mouse\n",
        ").properties(\n",
        "    title='Popularidade das músicas',\n",
        "    width=600,\n",
        "    height=400\n",
        ").interactive()"
      ]
    },
    {
      "cell_type": "code",
      "execution_count": 48,
      "metadata": {
        "id": "F7iTzeNZFWrr"
      },
      "outputs": [],
      "source": [
        "import pickle\n",
        "\n",
        "dados = {\n",
        "    \"artista_favorito\": nome_artista,\n",
        "    \"albuns\" : albuns,\n",
        "    \"top_tracks\": top_tracks,\n",
        "    \"artistas_relacionados\": artistas_relacionados,\n",
        "    \"imagem\": imagem,\n",
        "    \"recomendacoes\": recomendacoes.content,\n",
        "    \"sentimentos\": sentimentos.content,\n",
        "    \"analise_album\" : analise_album,\n",
        "    \"introducao\": introducao.content,\n",
        "    \"genero\": genero.content,\n",
        "    \"analise_letra\": analise_letra.content,\n",
        "    \"grafico_popularidade\": grafico_popularidade,\n",
        "    \"grafico_emocoes\": grafico_emocoes,\n",
        "    \"followers\": followers,\n",
        "    \"genres\": genres,\n",
        "    \"popularity\": popularity,\n",
        "    \"idiomaOriginal\": idiomaOriginal,\n",
        "    \"idiomaTraducao\": idioma_traducao,\n",
        "    \"nomeMusica\": nome_musica,\n",
        "    \"lyricsOriginal\": lyrics,\n",
        "    \"lyricsTraduzida\": lyrics_traduzida.content,\n",
        "    \"pergunta\": pergunta,\n",
        "    \"resposta\": resposta.content\n",
        "}\n",
        "\n",
        "with open('dados_musica.pkl', 'wb') as f:\n",
        "    pickle.dump(dados, f)"
      ]
    },
    {
      "cell_type": "code",
      "execution_count": 55,
      "metadata": {
        "colab": {
          "base_uri": "https://localhost:8080/"
        },
        "id": "FAHCm3jLawcH",
        "outputId": "010b084a-2ad1-453a-8f74-012ab328486c"
      },
      "outputs": [
        {
          "output_type": "stream",
          "name": "stdout",
          "text": [
            "Overwriting app.py\n"
          ]
        }
      ],
      "source": [
        "%%writefile app.py\n",
        "import pickle\n",
        "import streamlit as st\n",
        "import altair as alt\n",
        "import pandas as pd\n",
        "\n",
        "#Carregar os dados salvos\n",
        "with open('dados_musica.pkl', 'rb') as f:\n",
        "    dados = pickle.load(f)\n",
        "\n",
        "\n",
        "# Atribuir as variáveis\n",
        "artista_favorito = dados[\"artista_favorito\"]\n",
        "top_tracks = dados[\"top_tracks\"]\n",
        "artistas_relacionados = dados[\"artistas_relacionados\"]\n",
        "recomendacoes = dados[\"recomendacoes\"]\n",
        "sentimentos = dados[\"sentimentos\"]\n",
        "genero = dados[\"genero\"]\n",
        "introducao = dados[\"introducao\"]\n",
        "imagem = dados[\"imagem\"]\n",
        "analise_letra = dados[\"analise_letra\"]\n",
        "grafico_popularidade = dados[\"grafico_popularidade\"]\n",
        "grafico_emocoes = dados[\"grafico_emocoes\"]\n",
        "followers = dados[\"followers\"]\n",
        "genres = dados[\"genres\"]\n",
        "popularity = dados[\"popularity\"]\n",
        "albuns = dados[\"albuns\"]\n",
        "analise_album = dados[\"analise_album\"]\n",
        "idiomaOriginal = dados[\"idiomaOriginal\"]\n",
        "idiomaTraducao = dados[\"idiomaTraducao\"]\n",
        "nomeMusica = dados[\"nomeMusica\"]\n",
        "lyricsOriginal = dados[\"lyricsOriginal\"]\n",
        "lyricsTraduzida = dados[\"lyricsTraduzida\"]\n",
        "lyricsTraduzida = dados[\"lyricsTraduzida\"]\n",
        "pergunta = dados[\"pergunta\"]\n",
        "resposta = dados[\"resposta\"]\n",
        "\n",
        "\n",
        "\n",
        "# Função principal para a interface\n",
        "def main():\n",
        "    st.sidebar.title(\"Seu artista favorito!\")\n",
        "\n",
        "    # Criar abas\n",
        "    tab1, tab2,tab3,tab4 = st.tabs([\"Dados do artista\", \"Analisando a musicalidade\",\"Análise do album mais famoso\", \"Tradução da letra\"])\n",
        "\n",
        "    # Conteúdo da primeira aba (Dados do artista)\n",
        "    with tab1:\n",
        "        st.header(f\"{artista_favorito}\")\n",
        "        if imagem:\n",
        "            st.image(imagem, caption=f\"Imagem de {artista_favorito}\", width=320)\n",
        "        st.write(f\"**Seguidores:** {followers}\")\n",
        "        st.write(f\"**Gêneros:** {', '.join(genres)}\")\n",
        "        st.write(f\"**Popularidade:** {popularity}\")\n",
        "        st.header(\"Quem é?\")\n",
        "        st.write(f\"{introducao}\")\n",
        "        st.header(\"Estilo musical\")\n",
        "        st.write(f\"{genero}\")\n",
        "\n",
        "        st.header(\"Álbuns\")\n",
        "        # Mostrar os álbuns em fileiras horizontais\n",
        "\n",
        "        num_cols = 3  # Define quantos álbuns por linha\n",
        "        for i in range(0, len(albuns), num_cols):\n",
        "            cols = st.columns(num_cols)\n",
        "            for idx, col in enumerate(cols):\n",
        "                if i + idx < len(albuns):\n",
        "                    album = albuns[i + idx]\n",
        "                    col.write(album['name'])\n",
        "                    if album['images']:\n",
        "                        for img in album['images']:\n",
        "                            if img['height'] == 300 and img['width'] == 300:\n",
        "                                col.image(img['url'], caption=f\"Imagem de {album['name']}\", width=150)\n",
        "\n",
        "        st.header(\"Artistas relacionados\")\n",
        "        for artista in artistas_relacionados:\n",
        "            st.write(artista)\n",
        "\n",
        "\n",
        "\n",
        "    # Conteúdo da segunda aba (Analisando a musicalidade)\n",
        "    with tab2:\n",
        "        st.header(\"Músicas mais populares/ouvidas na plataforma\")\n",
        "\n",
        "        st.altair_chart(grafico_popularidade, use_container_width=True)\n",
        "\n",
        "        st.header(\"Músicas mais ouvidas no momento!\")\n",
        "        for track in top_tracks:\n",
        "            st.write(f\"{track['name']}\")\n",
        "\n",
        "        st.header(\"Escute músicas na mesma pegada!\")\n",
        "        st.write(recomendacoes)\n",
        "\n",
        "        st.write(analise_letra)\n",
        "\n",
        "\n",
        "    # Conteúdo da terceira aba (Analisando o álbum mais famoso)\n",
        "    with tab3:\n",
        "      st.header(\"Emoções do álbum mais famoso\")\n",
        "      st.altair_chart(grafico_emocoes, use_container_width=True)\n",
        "\n",
        "      st.header(\"Análise do álbum mais famoso\")\n",
        "      st.write(analise_album)\n",
        "\n",
        "    # Conteúdo da quarta (Tradução de uma música)\n",
        "    with tab4:\n",
        "      st.header(\"Tradução da música\")\n",
        "      st.write (f\"Nome da música: {nomeMusica}\")\n",
        "      st.write (f\"Nome do artista: {artista_favorito}\")\n",
        "      st.write (f\"Idioma original: {idiomaOriginal}\")\n",
        "      st.write (f\"Idioma tradução: {idiomaTraducao}\")\n",
        "\n",
        "\n",
        "      st.header(\"Letra no idioma original: \" + idiomaOriginal)\n",
        "      st.write (lyricsOriginal)\n",
        "      st.header(\"Letra no idioma traduzido: \" + idiomaTraducao)\n",
        "      st.write(lyricsTraduzida)\n",
        "\n",
        "      st.header(\"Pergunta sobre a música!\")\n",
        "      st.write(\"**Pergunta**: \" + pergunta)\n",
        "      st.write(\"**Resposta**: \" + resposta)\n",
        "\n",
        "if __name__ == \"__main__\":\n",
        "    main()"
      ]
    },
    {
      "cell_type": "markdown",
      "metadata": {
        "id": "n-YuFr0DuY1q"
      },
      "source": [
        "# **Parte 7 - Resultado final!**\n",
        "---"
      ]
    },
    {
      "cell_type": "markdown",
      "metadata": {
        "id": "oKm5dqqdudfd"
      },
      "source": [
        "##### **Agora, basta executar o seguinte bloco de código a seguir para ter acesso à página montada do Streamlit contendo todas as informações geradas pela IA e com a utilização dos métodos práticos de PLN! Divirta-se!**"
      ]
    },
    {
      "cell_type": "code",
      "execution_count": 50,
      "metadata": {
        "colab": {
          "base_uri": "https://localhost:8080/"
        },
        "collapsed": true,
        "id": "ASRpycozBHSC",
        "outputId": "9f64ee03-75be-4dff-811e-e87f14d4501c"
      },
      "outputs": [
        {
          "output_type": "stream",
          "name": "stdout",
          "text": [
            "\u001b[K\u001b[?25h\n",
            "up to date, audited 23 packages in 2s\n",
            "\n",
            "3 packages are looking for funding\n",
            "  run `npm fund` for details\n",
            "\n",
            "2 \u001b[33m\u001b[1mmoderate\u001b[22m\u001b[39m severity vulnerabilities\n",
            "\n",
            "To address all issues (including breaking changes), run:\n",
            "  npm audit fix --force\n",
            "\n",
            "Run `npm audit` for details.\n"
          ]
        }
      ],
      "source": [
        "!npm install localtunnel"
      ]
    },
    {
      "cell_type": "markdown",
      "metadata": {
        "id": "6ez_36RgF1Rb"
      },
      "source": [
        "**- Acesse o link abaixo e insira o IP fornecido para acessar a interface**"
      ]
    },
    {
      "cell_type": "code",
      "execution_count": null,
      "metadata": {
        "colab": {
          "base_uri": "https://localhost:8080/"
        },
        "id": "4YXqcZWT2sir",
        "outputId": "76738306-90c6-45c7-ea9c-779ba3df12ae",
        "collapsed": true
      },
      "outputs": [
        {
          "output_type": "stream",
          "name": "stdout",
          "text": [
            "35.229.218.150\n",
            "your url is: https://warm-parts-cry.loca.lt\n"
          ]
        }
      ],
      "source": [
        "!streamlit run app.py &>/content/logs.txt &\n",
        "!npx localtunnel --port 8501 & curl ipv4.icanhazip.com"
      ]
    },
    {
      "cell_type": "code",
      "source": [
        "#Carregar os dados salvos\n",
        "with open('dados_musica.pkl', 'rb') as f:\n",
        "    dados = pickle.load(f)\n"
      ],
      "metadata": {
        "id": "vmWHYgjMQjjj"
      },
      "execution_count": null,
      "outputs": []
    }
  ],
  "metadata": {
    "colab": {
      "provenance": [],
      "include_colab_link": true
    },
    "kernelspec": {
      "display_name": "Python 3",
      "name": "python3"
    }
  },
  "nbformat": 4,
  "nbformat_minor": 0
}